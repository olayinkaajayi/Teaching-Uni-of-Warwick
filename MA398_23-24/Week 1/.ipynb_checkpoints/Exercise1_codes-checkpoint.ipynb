{
 "cells": [
  {
   "cell_type": "code",
   "execution_count": 17,
   "metadata": {},
   "outputs": [],
   "source": [
    "import numpy as np\n",
    "from copy import deepcopy"
   ]
  },
  {
   "cell_type": "markdown",
   "metadata": {},
   "source": [
    "## Question 1(b)"
   ]
  },
  {
   "cell_type": "code",
   "execution_count": 2,
   "metadata": {},
   "outputs": [],
   "source": [
    "def backward_substitution(Uy):\n",
    "    \"\"\"\n",
    "        Implementing backward substitution for Ux=y.\n",
    "        Uy: N x (N+1)\n",
    "        N x N is an upper echelon matrix\n",
    "        Uy[-1] is the reduced vector b\n",
    "    \"\"\"\n",
    "    N , _ = Uy.shape\n",
    "    U = Uy[:,:-1] # N x N\n",
    "    y = Uy[:,-1] # N x 1\n",
    "    x = np.zeros(N)\n",
    "    \n",
    "    x[-1] = y[-1]/U[-1,-1]\n",
    "    \n",
    "    for i in range(N-2,-1,-1):\n",
    "        sum_part = 0\n",
    "        for j in range(i+1,N):\n",
    "            sum_part += U[i,j]*x[j]\n",
    "            \n",
    "        x[i] = (y[i] - sum_part)/U[i,i]\n",
    "        \n",
    "    print(f\"Solution for x is {x}\")\n",
    "    \n",
    "    return x.reshape(-1,1)"
   ]
  },
  {
   "cell_type": "code",
   "execution_count": 3,
   "metadata": {},
   "outputs": [],
   "source": [
    "def gaussian_elimination(A, b):\n",
    "    \"\"\"\n",
    "        Implementing row-reduction operations and backward substitution\n",
    "        A: N x N coefficient matrix\n",
    "        b: N x 1 column vector \n",
    "    \"\"\"\n",
    "    N , _ = A.shape\n",
    "    aug_A = np.concatenate([A,b], axis=1)\n",
    "    \n",
    "    for i in range(N):\n",
    "        pivot = aug_A[i,i]\n",
    "        \n",
    "        for j in range(i+1,N):\n",
    "            aug_A[j,:] = aug_A[j,:] - aug_A[j,i]*aug_A[i,:]/pivot\n",
    "        \n",
    "    x = backward_substitution(aug_A)\n",
    "    \n",
    "    return x"
   ]
  },
  {
   "cell_type": "code",
   "execution_count": 4,
   "metadata": {},
   "outputs": [],
   "source": [
    "A = np.array([[1, -1, 1],\n",
    "             [2, 3, -1],\n",
    "             [3, -2, -9]])\n",
    "\n",
    "# For Randa's solution, it should be \"-2\" and not \"2\"\n",
    "b = np.array([[8], [-2], [9]])"
   ]
  },
  {
   "cell_type": "code",
   "execution_count": 5,
   "metadata": {},
   "outputs": [
    {
     "name": "stdout",
     "output_type": "stream",
     "text": [
      "Solution for x is [ 4. -3.  1.]\n"
     ]
    }
   ],
   "source": [
    "x = gaussian_elimination(A,b)"
   ]
  },
  {
   "cell_type": "code",
   "execution_count": 6,
   "metadata": {},
   "outputs": [
    {
     "data": {
      "text/plain": [
       "array([[0.],\n",
       "       [0.],\n",
       "       [0.]])"
      ]
     },
     "execution_count": 6,
     "metadata": {},
     "output_type": "execute_result"
    }
   ],
   "source": [
    "# compare solution\n",
    "A@x - b"
   ]
  },
  {
   "cell_type": "markdown",
   "metadata": {},
   "source": [
    "## Question 3(b)"
   ]
  },
  {
   "cell_type": "code",
   "execution_count": 18,
   "metadata": {},
   "outputs": [],
   "source": [
    "def lu_factorization(A):\n",
    "    \"\"\"\n",
    "        Implementation of the LU factorization algorithm.\n",
    "        A: N x N matrix\n",
    "    \"\"\"\n",
    "    N , _ = A.shape\n",
    "    U = deepcopy(A)\n",
    "    L = np.eye(N)\n",
    "    \n",
    "    for i in range(N):\n",
    "        pivot = U[i,i]\n",
    "        \n",
    "        for j in range(i+1,N):\n",
    "            L[j,i] = U[j,i]/pivot\n",
    "            U[j,:] = U[j,:] - L[j,i]*U[i,:]\n",
    "            \n",
    "    print(f\"L:\\n{L}\\n\")\n",
    "    print(f\"U:\\n{U}\\n\")\n",
    "    \n",
    "    return L, U"
   ]
  },
  {
   "cell_type": "code",
   "execution_count": 19,
   "metadata": {},
   "outputs": [],
   "source": [
    "A3 = np.array([[2,-1,3],\n",
    "               [4,2,1],\n",
    "               [-6,-1,2]])"
   ]
  },
  {
   "cell_type": "code",
   "execution_count": 23,
   "metadata": {},
   "outputs": [
    {
     "name": "stdout",
     "output_type": "stream",
     "text": [
      "L:\n",
      "[[ 1.  0.  0.]\n",
      " [ 2.  1.  0.]\n",
      " [-3. -1.  1.]]\n",
      "\n",
      "U:\n",
      "[[ 2 -1  3]\n",
      " [ 0  4 -5]\n",
      " [ 0  0  6]]\n",
      "\n"
     ]
    }
   ],
   "source": [
    "L, U = lu_factorization(A3)"
   ]
  },
  {
   "cell_type": "markdown",
   "metadata": {},
   "source": [
    "## Question 3(c)"
   ]
  },
  {
   "cell_type": "code",
   "execution_count": 24,
   "metadata": {},
   "outputs": [
    {
     "data": {
      "text/plain": [
       "array([[0., 0., 0.],\n",
       "       [0., 0., 0.],\n",
       "       [0., 0., 0.]])"
      ]
     },
     "execution_count": 24,
     "metadata": {},
     "output_type": "execute_result"
    }
   ],
   "source": [
    "# compare solution\n",
    "L@U - A3"
   ]
  },
  {
   "cell_type": "code",
   "execution_count": null,
   "metadata": {},
   "outputs": [],
   "source": []
  }
 ],
 "metadata": {
  "kernelspec": {
   "display_name": "Python 3",
   "language": "python",
   "name": "python3"
  },
  "language_info": {
   "codemirror_mode": {
    "name": "ipython",
    "version": 3
   },
   "file_extension": ".py",
   "mimetype": "text/x-python",
   "name": "python",
   "nbconvert_exporter": "python",
   "pygments_lexer": "ipython3",
   "version": "3.8.5"
  }
 },
 "nbformat": 4,
 "nbformat_minor": 4
}

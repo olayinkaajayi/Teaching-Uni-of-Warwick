{
 "cells": [
  {
   "cell_type": "markdown",
   "metadata": {},
   "source": [
    "# MA398 Matrix Analysis & Algorithms 21/22\n",
    "### Algorithm 2 - LU Factorisation\n",
    "\n",
    "\n",
    "#### Expected input:\n",
    "A - an nxn matrix with invertible principal sub-matrices <br>\n",
    "\n",
    "#### Expected output\n",
    "L - an nxn unit lower triangular matrix <br>\n",
    "U - an nxn regular upper triangular matrix"
   ]
  },
  {
   "cell_type": "code",
   "execution_count": 2,
   "metadata": {},
   "outputs": [],
   "source": [
    "# Import libraries\n",
    "import numpy as np\n",
    "from numpy import linalg as LA\n",
    "from scipy.linalg import lu"
   ]
  },
  {
   "cell_type": "markdown",
   "metadata": {},
   "source": [
    "\n",
    "#### General solution\n"
   ]
  },
  {
   "cell_type": "code",
   "execution_count": 6,
   "metadata": {},
   "outputs": [
    {
     "data": {
      "text/plain": [
       "(32, 32)"
      ]
     },
     "execution_count": 6,
     "metadata": {},
     "output_type": "execute_result"
    }
   ],
   "source": [
    "# A simple matrix to test out the functionality\n",
    "testA = np.array([[1, 2, 4], [3, 8, 14], [2, 6, 13]])\n",
    "\n",
    "# Generate a random matrix of specified size\n",
    "randomA = np.random.rand(32,32)"
   ]
  },
  {
   "cell_type": "markdown",
   "metadata": {},
   "source": [
    "#### LU factorisation function"
   ]
  },
  {
   "cell_type": "code",
   "execution_count": 3,
   "metadata": {},
   "outputs": [],
   "source": [
    "def simpleLU(A):\n",
    "    \n",
    "    n = len(A)\n",
    "    \n",
    "    # Initialise L and U matrices\n",
    "    U = A.copy()\n",
    "    L = np.identity(n)\n",
    "    \n",
    "    # Main loop as in the lecture notes pseudocode\n",
    "    for k in range(n):\n",
    "        for j in range (k+1,n):\n",
    "            L[j,k] = U[j,k]/U[k,k]\n",
    "            U[j,k] = 0\n",
    "            for i in range(k+1,n):\n",
    "                U[j,i] = U[j,i] - L[j,k]*U[k,i]\n",
    "            \n",
    "    return L, U"
   ]
  },
  {
   "cell_type": "markdown",
   "metadata": {},
   "source": [
    "#### General solution"
   ]
  },
  {
   "cell_type": "code",
   "execution_count": 4,
   "metadata": {},
   "outputs": [
    {
     "name": "stdout",
     "output_type": "stream",
     "text": [
      "[[1. 0. 0.]\n",
      " [3. 1. 0.]\n",
      " [2. 1. 1.]]\n",
      "[[1 2 4]\n",
      " [0 2 2]\n",
      " [0 0 3]]\n",
      "The error norm of the solution when testing against standard multiplication for the simple case is:  0.0\n",
      "The error norm of the solution when testing against standard multiplication for the larger case is:  1.5786633774745597e-12\n"
     ]
    }
   ],
   "source": [
    "# Execute the simple algorithm (defined via previous function)\n",
    "testL, testU = simpleLU(testA)\n",
    "randomL, randomU = simpleLU(randomA)\n",
    "\n",
    "# The simple results can be in\n",
    "print(np.matrix(testL))\n",
    "print(np.matrix(testU))\n",
    "\n",
    "# Verify that the factorisation is indeed accurate\n",
    "# using a classical 2-norm for the error matrix\n",
    "\n",
    "# Simple case first\n",
    "testErrorNorm = LA.norm(testA-testL@testU)\n",
    "print (\"The error norm of the solution when testing against standard multiplication for the simple case is: \", testErrorNorm)\n",
    "\n",
    "# More complicated case next\n",
    "randomErrorNorm = LA.norm(randomA-randomL@randomU)\n",
    "print(\"The error norm of the solution when testing against standard multiplication for the larger case is: \", randomErrorNorm)\n",
    "\n",
    "# If we wish to restrict our verification for a specific accuracy level: \n",
    "# print (\"The error norm of the solution when testing against standard multiplication for the larger case is: \",end=\"\")\n",
    "# print (\"{0:.6f}\".format(randomErrorNorm))\n",
    "\n",
    "# Can also verify the in-built Python functionality for LU via scipy\n",
    "# tP, tL, tU = lu(testA)\n",
    "# rP, rL, rU = lu(randomA)"
   ]
  },
  {
   "cell_type": "code",
   "execution_count": null,
   "metadata": {},
   "outputs": [],
   "source": []
  }
 ],
 "metadata": {
  "kernelspec": {
   "display_name": "Python 3 (ipykernel)",
   "language": "python",
   "name": "python3"
  },
  "language_info": {
   "codemirror_mode": {
    "name": "ipython",
    "version": 3
   },
   "file_extension": ".py",
   "mimetype": "text/x-python",
   "name": "python",
   "nbconvert_exporter": "python",
   "pygments_lexer": "ipython3",
   "version": "3.9.7"
  }
 },
 "nbformat": 4,
 "nbformat_minor": 4
}

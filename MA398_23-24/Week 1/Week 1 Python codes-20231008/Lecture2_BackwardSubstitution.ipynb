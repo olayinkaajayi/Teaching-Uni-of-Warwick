{
 "cells": [
  {
   "cell_type": "markdown",
   "metadata": {},
   "source": [
    "# MA398 Matrix Analysis & Algorithms 21/22\n",
    "### Algorithm 1 - Backward Substitution\n",
    "\n",
    "\n",
    "#### Expected input:\n",
    "U - an nxn upper triangular matrix with non-zero entries on the diagonal <br>\n",
    "b - an n-sized right hand side\n",
    "\n",
    "#### Expected output\n",
    "x - an n-sized vector, solution to Ux=b "
   ]
  },
  {
   "cell_type": "code",
   "execution_count": 1,
   "metadata": {},
   "outputs": [],
   "source": [
    "# Import libraries\n",
    "import numpy as np\n",
    "from numpy import linalg as LA"
   ]
  },
  {
   "cell_type": "markdown",
   "metadata": {},
   "source": [
    "\n",
    "#### A simple example\n",
    "\n",
    "Designed for $x_1=5$, $x_2=1$ and $x_3=2$ as target solutions.\n"
   ]
  },
  {
   "cell_type": "code",
   "execution_count": 2,
   "metadata": {},
   "outputs": [
    {
     "name": "stdout",
     "output_type": "stream",
     "text": [
      "[[5]\n",
      " [1]\n",
      " [2]]\n"
     ]
    }
   ],
   "source": [
    "# Initialize upper triangular matrix\n",
    "U0 = np.matrix([[1,2,3],[0,1,1],[0,0,5]])\n",
    "# Initialize right hand side\n",
    "b0 = np.matrix([[13],[3],[10]])\n",
    "# Set the solution vector to zero\n",
    "x0 = np.zeros_like(b0)\n",
    "\n",
    "# Naive/direct translation of algorithm\n",
    "n = b0.size\n",
    "# First step considered outside loop to avoid \n",
    "# iterating index exceeding size of matrix\n",
    "x0[n-1] = b0[n-1]/U0[n-1, n-1]\n",
    "\n",
    "# Main loop\n",
    "for i in range(n-2, -1, -1):\n",
    "    h = 0 # helper variable\n",
    "    for j in range (i+1, n):\n",
    "        h += U0[i, j]*x0[j]\n",
    "    x0[i] = (b0[i] - h)/U0[i, i]\n",
    "\n",
    "# Consult result\n",
    "print(np.matrix(x0))\n"
   ]
  },
  {
   "cell_type": "code",
   "execution_count": 9,
   "metadata": {},
   "outputs": [],
   "source": [
    "U = np.matrix([[1,2,3],[0,1,1],[0,0,5]])\n",
    "# Initialize right hand side\n",
    "b = np.matrix([[10],[3],[7]])\n"
   ]
  },
  {
   "cell_type": "markdown",
   "metadata": {},
   "source": [
    "#### Primary backward substitution function"
   ]
  },
  {
   "cell_type": "code",
   "execution_count": 10,
   "metadata": {},
   "outputs": [],
   "source": [
    "def simpleBackwardSubstitution(U: np.ndarray, b: np.ndarray) -> np.ndarray:\n",
    "    n = b.size\n",
    "    x = np.zeros_like(b)\n",
    "    \n",
    "    # First step\n",
    "    x[n-1] = b[n-1]/U[n-1, n-1]\n",
    "    \n",
    "    # Main loop\n",
    "    for i in range(n-2, -1, -1):\n",
    "        h = 0 # helper variable\n",
    "        for j in range (i+1, n):\n",
    "            h += U[i, j]*x[j]\n",
    "        x[i] = (b[i] - h)/U[i, i]\n",
    "\n",
    "    return x"
   ]
  },
  {
   "cell_type": "markdown",
   "metadata": {},
   "source": [
    "#### General solution"
   ]
  },
  {
   "cell_type": "code",
   "execution_count": 11,
   "metadata": {},
   "outputs": [
    {
     "name": "stdout",
     "output_type": "stream",
     "text": [
      "First verify the simple 3x3 case:\n",
      "[[3]\n",
      " [2]\n",
      " [1]]\n",
      "The error norm between our solution and the default solver is  2.0527073129729452e-07\n"
     ]
    }
   ],
   "source": [
    "# Use a function (defined below) instead and compare results\n",
    "x0F = simpleBackwardSubstitution(U,b);\n",
    "print(\"First verify the simple 3x3 case:\")\n",
    "print(np.matrix(x0F))\n",
    "\n",
    "# Now for a real challenge - a larger upper triangular matrix\n",
    "# Generate a random 64x64 matrix (the 0.1 offset is to ensure non-zero\n",
    "# diagonal entries)\n",
    "A = 0.1 + np.random.rand(64,64)\n",
    "# Select upper triangular part\n",
    "U = np.triu(A)\n",
    "# ... and an appropriately sized vector, either artificially\n",
    "b = U.sum(axis=1) # expect a solution of 1's if constructing the rhs this way\n",
    "# b = np.random.rand(len(A),1) # uncomment if you wish to test more generally\n",
    "\n",
    "x = simpleBackwardSubstitution(A,b)\n",
    "\n",
    "# Compare result to in-built function\n",
    "xInbuilt = np.linalg.solve(U, b)\n",
    "# using Euclidean vector norm\n",
    "errorNorm = LA.norm(x - xInbuilt)\n",
    "print(\"The error norm between our solution and the default solver is \", errorNorm)"
   ]
  },
  {
   "cell_type": "code",
   "execution_count": null,
   "metadata": {},
   "outputs": [],
   "source": []
  }
 ],
 "metadata": {
  "kernelspec": {
   "display_name": "Python 3 (ipykernel)",
   "language": "python",
   "name": "python3"
  },
  "language_info": {
   "codemirror_mode": {
    "name": "ipython",
    "version": 3
   },
   "file_extension": ".py",
   "mimetype": "text/x-python",
   "name": "python",
   "nbconvert_exporter": "python",
   "pygments_lexer": "ipython3",
   "version": "3.9.7"
  }
 },
 "nbformat": 4,
 "nbformat_minor": 4
}

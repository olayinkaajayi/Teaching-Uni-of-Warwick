{
 "cells": [
  {
   "cell_type": "markdown",
   "metadata": {},
   "source": [
    "# MA398 Matrix Analysis & Algorithms 21/22\n",
    "### Computer arithmetic discussion points"
   ]
  },
  {
   "cell_type": "code",
   "execution_count": 6,
   "metadata": {},
   "outputs": [],
   "source": [
    "# Import libraries\n",
    "import numpy as np\n",
    "import math"
   ]
  },
  {
   "cell_type": "code",
   "execution_count": 2,
   "metadata": {},
   "outputs": [
    {
     "data": {
      "text/plain": [
       "False"
      ]
     },
     "execution_count": 2,
     "metadata": {},
     "output_type": "execute_result"
    }
   ],
   "source": [
    "0.1+0.1+0.1==0.3"
   ]
  },
  {
   "cell_type": "code",
   "execution_count": 5,
   "metadata": {},
   "outputs": [
    {
     "data": {
      "text/plain": [
       "False"
      ]
     },
     "execution_count": 5,
     "metadata": {},
     "output_type": "execute_result"
    }
   ],
   "source": [
    "0.1+0.2==0.3"
   ]
  },
  {
   "cell_type": "code",
   "execution_count": 4,
   "metadata": {},
   "outputs": [
    {
     "name": "stdout",
     "output_type": "stream",
     "text": [
      "2.220446049250313e-16\n",
      "5e-324\n",
      "2.220446049250313e-16\n",
      "1.1368683772161603e-13\n"
     ]
    }
   ],
   "source": [
    "# Consult the function documentation\n",
    "# help(np.finfo)\n",
    "\n",
    "# One can check datatypes:\n",
    "print(np.finfo(float).eps)\n",
    "# print(np.finfo(np.float32).eps)\n",
    "\n",
    "# Works with other numbers as well, e.g.\n",
    "print(np.spacing(np.float64(0.0)))\n",
    "print(np.spacing(np.float64(1.0)))\n",
    "print(np.spacing(np.float64(1000.0)))"
   ]
  },
  {
   "cell_type": "markdown",
   "metadata": {},
   "source": [
    "\n",
    "#### Example - Solving a quadratic equation\n",
    "\n",
    "Attempt to solve a classical problem of type $ax^2 + bx + c = 0$ in challenging conditions from the scientific computing standpoint, i.e. with $a$, $b$ and $c$ designed such that $b^2 \\gg 4ac$. \n",
    "\n",
    "The particular case considered here is such that $a=c=1$ and $b=10^8$. Designed for $x_1=-10^{-8}$ and $x_2=-10^8$ as target solutions, with a notable discrepancy between their orders of magnitude.\n"
   ]
  },
  {
   "cell_type": "code",
   "execution_count": 5,
   "metadata": {},
   "outputs": [
    {
     "name": "stdout",
     "output_type": "stream",
     "text": [
      "We have used the standard quadratic formula. As a result ...\n",
      "The first solution is -7.450580596923828e-09\n",
      "The second solution is -100000000.0\n",
      "While the second term is accurate, the first term has a notable error.\n"
     ]
    }
   ],
   "source": [
    "a = 1\n",
    "b = 10**8\n",
    "c = 1\n",
    "\n",
    "# Standard formula\n",
    "x1_v1 = (-b + math.sqrt(b**2 - 4*a*c))/(2*a)\n",
    "x2_v1 = (-b - math.sqrt(b**2 - 4*a*c))/(2*a)\n",
    "\n",
    "print(\"We have used the standard quadratic formula. As a result ...\")\n",
    "print(\"The first solution is\", x1_v1)\n",
    "print(\"The second solution is\", x2_v1)\n",
    "print(\"While the second term is accurate, the first term has a notable error.\")"
   ]
  },
  {
   "cell_type": "markdown",
   "metadata": {},
   "source": [
    "Although the second root is now accurate, the first root has a notable error. Error is in the order of 25%, $\\text{error}=\\frac{-1e-08+7.450580596923828e-09}{1e-08}$\n"
   ]
  },
  {
   "cell_type": "markdown",
   "metadata": {},
   "source": [
    "Issue: $-b$ very nearly equal to sqrt term: $1e7 - \\sqrt{1e14-4}$.\n",
    "The more similar two numbers are, the more precision you can lose by subtracting them.\n",
    "Possible fix: rationalise the numerator!"
   ]
  },
  {
   "cell_type": "code",
   "execution_count": 6,
   "metadata": {},
   "outputs": [
    {
     "name": "stdout",
     "output_type": "stream",
     "text": [
      "We have now rationalised the numerator. As a result ...\n",
      "The first solution is -1e-08\n",
      "The second solution is -134217728.0\n",
      "Now the first term is correctly computed, however the second term is inaccurate.\n"
     ]
    }
   ],
   "source": [
    "x1_v2 = 2*c/(-b - math.sqrt(b**2 - 4*a*c))\n",
    "x2_v2 = 2*c/(-b + math.sqrt(b**2 - 4*a*c))\n",
    "\n",
    "print(\"We have now rationalised the numerator. As a result ...\")\n",
    "print(\"The first solution is\", x1_v2)\n",
    "print(\"The second solution is\", x2_v2)\n",
    "print(\"Now the first term is correctly computed, however the second term is inaccurate.\")"
   ]
  },
  {
   "cell_type": "markdown",
   "metadata": {},
   "source": [
    "Possible fix: use both strategies (one for each root). Conduct a check for when subtracting almost equal numbers and solve in an if-statement.\n",
    "\n",
    "Alternatively use Viete's formula: for roots $x_1$ and $x_2$, we have $x_1+x_2 = -b/a$ and $x_1*x_2 =  c/a$."
   ]
  },
  {
   "cell_type": "code",
   "execution_count": 7,
   "metadata": {},
   "outputs": [
    {
     "name": "stdout",
     "output_type": "stream",
     "text": [
      "We have now used Viete's formula. As a result ...\n",
      "The first solution is -1e-08\n",
      "The second solution is -100000000.0\n",
      "Both solutions are now as expected after having tailored the algorithm to the relevant challenges.\n"
     ]
    }
   ],
   "source": [
    "x1_v3 = 2*c/(-b - math.sqrt(b**2 - 4*a*c))\n",
    "x2_v3 = c/(a*x1_v3)\n",
    "\n",
    "print(\"We have now used Viete's formula. As a result ...\")\n",
    "print(\"The first solution is\", x1_v3)\n",
    "print(\"The second solution is\", x2_v3)\n",
    "print(\"Both solutions are now as expected after having tailored the algorithm to the relevant challenges.\")"
   ]
  },
  {
   "cell_type": "code",
   "execution_count": null,
   "metadata": {},
   "outputs": [],
   "source": []
  },
  {
   "cell_type": "code",
   "execution_count": null,
   "metadata": {},
   "outputs": [],
   "source": []
  }
 ],
 "metadata": {
  "kernelspec": {
   "display_name": "Python 3",
   "language": "python",
   "name": "python3"
  },
  "language_info": {
   "codemirror_mode": {
    "name": "ipython",
    "version": 3
   },
   "file_extension": ".py",
   "mimetype": "text/x-python",
   "name": "python",
   "nbconvert_exporter": "python",
   "pygments_lexer": "ipython3",
   "version": "3.8.5"
  }
 },
 "nbformat": 4,
 "nbformat_minor": 4
}

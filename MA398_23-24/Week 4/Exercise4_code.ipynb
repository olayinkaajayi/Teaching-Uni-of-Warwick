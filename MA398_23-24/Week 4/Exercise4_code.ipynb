{
 "cells": [
  {
   "cell_type": "markdown",
   "metadata": {},
   "source": [
    "# Exercise 4"
   ]
  },
  {
   "cell_type": "markdown",
   "metadata": {},
   "source": [
    "## Question 2"
   ]
  },
  {
   "cell_type": "code",
   "execution_count": 1,
   "metadata": {},
   "outputs": [],
   "source": [
    "import numpy as np"
   ]
  },
  {
   "cell_type": "code",
   "execution_count": 2,
   "metadata": {},
   "outputs": [],
   "source": [
    "def condition_number_cal(A):\n",
    "    \"\"\"Computes the condition number of a non-singular matrix A.\n",
    "\n",
    "    Args:\n",
    "        A: A 2D numpy array representing the matrix whose condition number is to be computed.\n",
    "\n",
    "    Returns:\n",
    "        The condition number of A.\n",
    "    \"\"\"\n",
    "\n",
    "    # Compute the matrix norm of A.\n",
    "    norm_A = np.linalg.norm(A)\n",
    "\n",
    "    # Compute the matrix norm of the inverse of A.\n",
    "    norm_inv_A = np.linalg.norm(np.linalg.inv(A))\n",
    "\n",
    "    # Compute the condition number of A.\n",
    "    condition_number = norm_A * norm_inv_A\n",
    "\n",
    "    return condition_number\n"
   ]
  },
  {
   "cell_type": "code",
   "execution_count": 3,
   "metadata": {},
   "outputs": [
    {
     "name": "stdout",
     "output_type": "stream",
     "text": [
      "Condition number for A = 327.1011338017685\n"
     ]
    }
   ],
   "source": [
    "# Generate a random matrix A.\n",
    "n = 10\n",
    "A = np.random.rand(n, n)\n",
    "condition_number = condition_number_cal(A)\n",
    "\n",
    "print(f\"Condition number for A = {condition_number}\")\n"
   ]
  },
  {
   "cell_type": "markdown",
   "metadata": {},
   "source": [
    "## Interpretation of the condition number\n",
    "\n",
    "* The condition number of a matrix A measures how sensitive the solution to the system of linear equations Ax = b is to small changes in A or b. A higher condition number indicates a more sensitive solution.\n",
    "\n",
    "* If the condition number is close to 1, then the solution is relatively insensitive to small changes in A or b. In other words, even a small error in A or b will not cause a large error in the solution.\n",
    "\n",
    "* If the condition number is significantly larger than 1, then the solution is more sensitive to small changes in A or b. In other words, even a small error in A or b could cause a large error in the solution.\n",
    "\n",
    "* If the condition number is very large, then the solution is extremely sensitive to small changes in A or b. In this case, it may be difficult or impossible to find an accurate solution to the system of linear equations.\n",
    "\n",
    "In the context of solving the system of linear equations Ax = b, the condition number of A tells us how difficult it will be to find an accurate solution to the system. If the condition number is high, then we should be aware that the solution may be sensitive to small errors in A or b. We may need to take special care to ensure that we are using a numerical method that is stable and accurate.\n"
   ]
  },
  {
   "cell_type": "code",
   "execution_count": 5,
   "metadata": {},
   "outputs": [
    {
     "name": "stdout",
     "output_type": "stream",
     "text": [
      "175495.64130771163\n"
     ]
    }
   ],
   "source": [
    "# Here is an example of a 3x3 singular matrix\n",
    "A = np.array([[2, 1, -1], [1, 0, 1], [2, 1, -1+1e-4]]) # added 1e-4 to make it non-singular\n",
    "condition_number = condition_number_cal(A)\n",
    "\n",
    "print(condition_number)"
   ]
  },
  {
   "cell_type": "code",
   "execution_count": null,
   "metadata": {},
   "outputs": [],
   "source": []
  },
  {
   "cell_type": "markdown",
   "metadata": {},
   "source": [
    "## Question 4"
   ]
  },
  {
   "cell_type": "code",
   "execution_count": 6,
   "metadata": {},
   "outputs": [],
   "source": [
    "def perturbed_dot_product(v1, v2, epsilon=1e-6):\n",
    "    \"\"\"This function computes the dot product between two vectors after\n",
    "        adding a small perturbation to each element of the vectors.\n",
    "\n",
    "    Args:\n",
    "        v1: A numpy array representing the first vector.\n",
    "        v2: A numpy array representing the second vector.\n",
    "        epsilon: The magnitude of the perturbation.\n",
    "\n",
    "    Returns:\n",
    "        dot_product_perturbed: The dot product after perturbation\n",
    "        relative_forward_error: The relative forward error\n",
    "        relative_backward_error: The relative backward error\n",
    "    \"\"\"\n",
    "\n",
    "    perturbed_v1 = v1 + epsilon * np.random.randn(*v1.shape)\n",
    "    perturbed_v2 = v2 + epsilon * np.random.randn(*v2.shape)\n",
    "    \n",
    "    exact_dot_product = np.dot(v1, v2)\n",
    "    \n",
    "    dot_product_perturbed = np.dot(perturbed_v1, perturbed_v2)\n",
    "    \n",
    "    relative_forward_error = np.abs(dot_product_perturbed - exact_dot_product) / np.abs(exact_dot_product)\n",
    "    \n",
    "    relative_backward_error = np.linalg.norm(perturbed_v1 - v1) / np.linalg.norm(v1)\n",
    "\n",
    "    return dot_product_perturbed, relative_forward_error, relative_backward_error"
   ]
  },
  {
   "cell_type": "code",
   "execution_count": 17,
   "metadata": {},
   "outputs": [
    {
     "name": "stdout",
     "output_type": "stream",
     "text": [
      "Exact dot product: -11.977960449441982\n",
      "Dot product after perturbation:  -11.977961663445964\n",
      "Relative forward error:  1.0135314663215985e-07\n",
      "Relative backward error:  9.035670759267125e-07\n"
     ]
    }
   ],
   "source": [
    "# Generate two random vectors.\n",
    "v1 = np.random.randn(100)\n",
    "v2 = np.random.randn(100)\n",
    "\n",
    "# Calculate the perturbed dot product, relative forward and backward errors.\n",
    "dot_product_perturbed, relative_forward_error, relative_backward_error = perturbed_dot_product(v1, v2)\n",
    "\n",
    "# Compute the exact dot product.\n",
    "exact_dot_product = np.dot(v1, v2)\n",
    "\n",
    "# Print the results.\n",
    "print(\"Exact dot product:\", exact_dot_product)\n",
    "print(\"Dot product after perturbation: \", dot_product_perturbed)\n",
    "print(\"Relative forward error: \", relative_forward_error)\n",
    "print(\"Relative backward error: \", relative_backward_error)\n"
   ]
  },
  {
   "cell_type": "markdown",
   "metadata": {},
   "source": [
    "As you can see, the relative forward and backward errors are both very small, on the order of $10^{-7}$. This suggests that the dot product operation is backward stable.\n",
    "\n",
    "Backward stability of a numerical algorithm means that small errors in the input data do not lead to large errors in the output. In other words, the output of the algorithm is insensitive to small changes in the input data.\n",
    "\n",
    "The backward stability of the dot product operation is important because it means that we can use it to compute accurate results even when the input data is slightly noisy or inaccurate."
   ]
  },
  {
   "cell_type": "code",
   "execution_count": null,
   "metadata": {},
   "outputs": [],
   "source": []
  },
  {
   "cell_type": "code",
   "execution_count": null,
   "metadata": {},
   "outputs": [],
   "source": []
  }
 ],
 "metadata": {
  "kernelspec": {
   "display_name": "Python 3",
   "language": "python",
   "name": "python3"
  },
  "language_info": {
   "codemirror_mode": {
    "name": "ipython",
    "version": 3
   },
   "file_extension": ".py",
   "mimetype": "text/x-python",
   "name": "python",
   "nbconvert_exporter": "python",
   "pygments_lexer": "ipython3",
   "version": "3.8.5"
  }
 },
 "nbformat": 4,
 "nbformat_minor": 4
}

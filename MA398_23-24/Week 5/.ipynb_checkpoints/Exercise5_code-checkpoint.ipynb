{
 "cells": [
  {
   "cell_type": "code",
   "execution_count": 1,
   "metadata": {},
   "outputs": [],
   "source": [
    "import numpy as np\n",
    "import matplotlib.pyplot as plt "
   ]
  },
  {
   "cell_type": "markdown",
   "metadata": {},
   "source": [
    "## Question 2"
   ]
  },
  {
   "cell_type": "code",
   "execution_count": 2,
   "metadata": {},
   "outputs": [],
   "source": [
    "def matrix_multiplication(A, B):\n",
    "    \"\"\"Computes the matrix multiplication of two matrices A and B.\n",
    "\n",
    "    Args:\n",
    "        A: A numpy array of shape (n, m).\n",
    "        B: A numpy array of shape (m, p).\n",
    "\n",
    "    Returns:\n",
    "        A numpy array of shape (n, p), the result of multiplying A and B.\n",
    "    \"\"\"\n",
    "    # The variable keeps track of the number of operations\n",
    "    op_count = 0\n",
    "\n",
    "    assert A.shape[1] == B.shape[0], \"The two matrices must have compatible dimensions.\"\n",
    "    \n",
    "    C = np.zeros((A.shape[0], B.shape[1]))\n",
    "    for i in range(A.shape[0]):\n",
    "        for j in range(B.shape[1]):\n",
    "            for k in range(A.shape[1]):\n",
    "                C[i, j] += A[i, k] * B[k, j]\n",
    "                # Here we have 1 mutiplication and 1 addition ie. 2 flops. So:\n",
    "                op_count = op_count + 2\n",
    "\n",
    "    return C, op_count\n"
   ]
  },
  {
   "cell_type": "code",
   "execution_count": 3,
   "metadata": {},
   "outputs": [],
   "source": [
    "# Example usage:\n",
    "n = 4\n",
    "\n",
    "# Generate two random matrices.\n",
    "A = np.random.randn(n, n)\n",
    "B = np.random.randn(n, n)\n",
    "\n",
    "C, flops = matrix_multiplication(A, B)\n",
    "D = np.dot(A, B)\n",
    "# Verify that the outputs are the same.\n",
    "assert np.allclose(C, D)\n"
   ]
  },
  {
   "cell_type": "code",
   "execution_count": 4,
   "metadata": {},
   "outputs": [
    {
     "data": {
      "text/plain": [
       "<matplotlib.legend.Legend at 0x7f9a1a45fd60>"
      ]
     },
     "execution_count": 4,
     "metadata": {},
     "output_type": "execute_result"
    },
    {
     "data": {
      "image/png": "[encoded data removed]",
      "text/plain": [
       "<Figure size 432x288 with 1 Axes>"
      ]
     },
     "metadata": {
      "needs_background": "light"
     },
     "output_type": "display_data"
    }
   ],
   "source": [
    "max_N = 10**2\n",
    "\n",
    "flop_arr = [matrix_multiplication(np.random.randn(n, n),np.random.randn(n, n))[1] for n in range(max_N)]\n",
    "\n",
    "n_cube = [n**3 for n in range(max_N)]\n",
    "\n",
    "plt.plot(range(max_N), flop_arr, label=\"FLOP count\")\n",
    "plt.plot(range(max_N), np.array(n_cube), label=r\"n^3\") # multiply n_cube by 2 to see how they coincide\n",
    "plt.xlabel(\"n\")\n",
    "plt.ylabel(\"FLOPs\")\n",
    "plt.title(\"FLOPs for Standard Matrix Multiplication.\")\n",
    "plt.legend()"
   ]
  },
  {
   "cell_type": "markdown",
   "metadata": {},
   "source": [
    "## Question 3"
   ]
  },
  {
   "cell_type": "code",
   "execution_count": 5,
   "metadata": {},
   "outputs": [],
   "source": [
    "def get_splits(M):\n",
    "    \"\"\"\n",
    "        Splits the array into 4 quadrants\n",
    "        Returns:\n",
    "            M11, M12, M21, M22\n",
    "    \"\"\"\n",
    "    # split the rows in half\n",
    "    M1_, M2_ = np.vsplit(M,2)\n",
    "    \n",
    "    # splits the \"splitted rows\" into half across the column\n",
    "    M11, M12 = np.hsplit(M1_,2)\n",
    "    M21, M22 = np.hsplit(M2_,2)\n",
    "    \n",
    "    return M11, M12, M21, M22\n",
    "\n",
    "def check_shape_info(A,B):\n",
    "    \"\"\"\n",
    "        We check to see that both matrices are n x n.\n",
    "        And we check that n = 2^k where k is some integer.\n",
    "    \"\"\"\n",
    "    m, n = A.shape\n",
    "    assert m == n, \"matrix is not square\"\n",
    "    \n",
    "    m, n = B.shape\n",
    "    assert m == n, \"matrix is not square\"\n",
    "    \n",
    "    assert np.log2(n) - np.ceil(np.log2(n))  == 0, \"matrix is not an  integer power of 2\"\n",
    "    \n",
    "    return n"
   ]
  },
  {
   "cell_type": "code",
   "execution_count": 6,
   "metadata": {},
   "outputs": [],
   "source": [
    "def strassen(A, B):\n",
    "    \"\"\"\n",
    "    Multiplies two square matrices using Strassen's algorithm.\n",
    "\n",
    "    Args:\n",
    "        A: A square numpy array of shape (n, n) of complex numbers.\n",
    "        B: A square numpy array of shape (n, n) of complex numbers.\n",
    "        \n",
    "    Returns:\n",
    "        A square numpy array of shape (n, n) containing the product of A and B.\n",
    "\"\"\"\n",
    "    \n",
    "    n = check_shape_info(A,B)\n",
    "    \n",
    "    # Base case.\n",
    "    if n == 2:\n",
    "        return np.dot(A, B)\n",
    "\n",
    "    # Divide the matrices into four quadrants.\n",
    "    A11, A12, A21, A22 = get_splits(A)\n",
    "    B11, B12, B21, B22 = get_splits(B)\n",
    "\n",
    "    # Recursively compute the seven Strassen subproblems.\n",
    "    P1 = strassen(A11 + A22, B11 + B22)\n",
    "    P2 = strassen(A21 + A22, B11)\n",
    "    P3 = strassen(A11, B12 - B22)\n",
    "    P4 = strassen(A22, B21 - B11)\n",
    "    P5 = strassen(A11 + A12, B22)\n",
    "    P6 = strassen(A21 - A11, B11 + B12)\n",
    "    P7 = strassen(A12 - A22, B21 + B22)\n",
    "\n",
    "    # Combine the subproblems to form the product matrix.\n",
    "    C11 = P1 + P4 - P5 + P7\n",
    "    C12 = P3 + P5\n",
    "    C21 = P2 + P4\n",
    "    C22 = P1 - P2 + P3 + P6\n",
    "\n",
    "    return np.vstack((np.hstack((C11, C12)), np.hstack((C21, C22))))\n",
    "\n"
   ]
  },
  {
   "cell_type": "code",
   "execution_count": 7,
   "metadata": {},
   "outputs": [
    {
     "name": "stdout",
     "output_type": "stream",
     "text": [
      "Strassen's algorithm test passed successfully!\n"
     ]
    }
   ],
   "source": [
    "n = 2**8\n",
    "\n",
    "# Generate two random complex matrices.\n",
    "A = np.random.randn(n, n) + 1j * np.random.randn(n, n)\n",
    "B = np.random.randn(n, n) + 1j * np.random.randn(n, n)\n",
    "\n",
    "# Compute the product matrix using Strassen's algorithm.\n",
    "C = strassen(A, B)\n",
    "\n",
    "# Compute the product matrix using NumPy's built-in matrix multiplication function.\n",
    "D = np.dot(A, B)\n",
    "\n",
    "# Verify that the outputs are the same.\n",
    "assert np.allclose(C, D)\n",
    "print(\"Strassen's algorithm test passed successfully!\")"
   ]
  },
  {
   "cell_type": "code",
   "execution_count": null,
   "metadata": {},
   "outputs": [],
   "source": []
  }
 ],
 "metadata": {
  "kernelspec": {
   "display_name": "Python 3",
   "language": "python",
   "name": "python3"
  },
  "language_info": {
   "codemirror_mode": {
    "name": "ipython",
    "version": 3
   },
   "file_extension": ".py",
   "mimetype": "text/x-python",
   "name": "python",
   "nbconvert_exporter": "python",
   "pygments_lexer": "ipython3",
   "version": "3.8.5"
  }
 },
 "nbformat": 4,
 "nbformat_minor": 4
}

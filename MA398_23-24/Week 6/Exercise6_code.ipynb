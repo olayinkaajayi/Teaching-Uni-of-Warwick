{
 "cells": [
  {
   "cell_type": "markdown",
   "metadata": {},
   "source": [
    "# Exercise Sheet 6\n",
    "\n",
    "## Question 2"
   ]
  },
  {
   "cell_type": "code",
   "execution_count": 1,
   "metadata": {},
   "outputs": [],
   "source": [
    "import numpy as np\n",
    "import matplotlib.pyplot as plt"
   ]
  },
  {
   "cell_type": "code",
   "execution_count": 2,
   "metadata": {},
   "outputs": [],
   "source": [
    "def compute_svd_ours(A):\n",
    "    \"\"\"Computes the Singular Value Decomposition (SVD) of a given matrix A.\n",
    "\n",
    "        Args:\n",
    "            A: A numpy array representing the matrix to decompose.\n",
    "\n",
    "        Returns:\n",
    "            A tuple of three numpy arrays: U, S, and Vh, representing the left singular\n",
    "            matrix, the singular values, and the right singular matrix (transposed),\n",
    "            respectively.\n",
    "    \"\"\"\n",
    "    m, n = A.shape\n",
    "    p = min(m,n)\n",
    "    \n",
    "    A_conj_T = np.conj(A).T\n",
    "    \n",
    "    Sigma_squared_v, V = np.linalg.eig(A_conj_T@A)\n",
    "    # Get the indices that orders the eigenvectors/values in descending order\n",
    "    idx_v = np.argsort(-Sigma_squared_v) # orders from largest to smallest\n",
    "    \n",
    "    # Order the eigen vectors and values of V\n",
    "    Sigma_squared_v = Sigma_squared_v[idx_v]\n",
    "    V = V[:,idx_v]\n",
    "    \n",
    "    # Select only the non-zero eigenvalues and their associated eigenvectors\n",
    "    Sigma_squared_v = Sigma_squared_v[:p]\n",
    "    V = V[:,:p]\n",
    "    Vh = np.conj(V).T # Note that we return the conjugate transpose of V.\n",
    "    \n",
    "    Sigma_squared_u, U = np.linalg.eig(A@A_conj_T)\n",
    "    # Get the indices that orders the eigenvectors/values in descending order\n",
    "    idx_u = np.argsort(-Sigma_squared_u) # orders from largest to smallest\n",
    "    \n",
    "    # Order the eigen vectors and values of U\n",
    "    Sigma_squared_u = Sigma_squared_u[idx_u]\n",
    "    U = U[:,idx_u]\n",
    "    \n",
    "    # Select only the non-zero eigenvalues and their associated eigenvectors\n",
    "    Sigma_squared_u = Sigma_squared_u[:p]\n",
    "    U = U[:,:p]\n",
    "    \n",
    "    # To get S (Sigma), we need to take the square-roort of Sigma_square.\n",
    "    # You may consult your week 6 lecture notes for any clarification.\n",
    "    S = np.sqrt(Sigma_squared_v)\n",
    "    \n",
    "    print(f\"U =\\n{U}\")\n",
    "    print(f\"S =\\n{S}\")\n",
    "    print(f\"V =\\n{Vh}\")\n",
    "    \n",
    "    return U, S, Vh"
   ]
  },
  {
   "cell_type": "code",
   "execution_count": 3,
   "metadata": {},
   "outputs": [],
   "source": [
    "def compute_svd(A):\n",
    "    \"\"\"Computes the Singular Value Decomposition (SVD) of a given matrix A.\n",
    "\n",
    "        Args:\n",
    "            A: A numpy array representing the matrix to decompose.\n",
    "\n",
    "        Returns:\n",
    "            A tuple of three numpy arrays: U, S, and Vh, representing the left singular\n",
    "            matrix, the singular values, and the right singular matrix (transposed),\n",
    "            respectively.\n",
    "    \"\"\"\n",
    "\n",
    "    U, S, Vh = np.linalg.svd(A, full_matrices=False)\n",
    "    return U, S, Vh\n"
   ]
  },
  {
   "cell_type": "code",
   "execution_count": 4,
   "metadata": {},
   "outputs": [
    {
     "name": "stdout",
     "output_type": "stream",
     "text": [
      "U:\n",
      "[[-0.3863177   0.92236578]\n",
      " [-0.92236578 -0.3863177 ]]\n",
      "S:\n",
      "[9.508032   0.77286964]\n",
      "Vh:\n",
      "[[-0.42866713 -0.56630692 -0.7039467 ]\n",
      " [-0.80596391 -0.11238241  0.58119908]]\n"
     ]
    }
   ],
   "source": [
    "A = np.array([[1, 2, 3], [4, 5, 6]])\n",
    "\n",
    "# Compute the SVD of A.\n",
    "U, S, Vh = compute_svd(A)\n",
    "\n",
    "# Print the results.\n",
    "print(\"U:\")\n",
    "print(U)\n",
    "\n",
    "print(\"S:\")\n",
    "print(S)\n",
    "\n",
    "print(\"Vh:\")\n",
    "print(Vh)\n"
   ]
  },
  {
   "cell_type": "code",
   "execution_count": 5,
   "metadata": {},
   "outputs": [
    {
     "name": "stdout",
     "output_type": "stream",
     "text": [
      "True\n",
      "[[1. 2. 3.]\n",
      " [4. 5. 6.]]\n"
     ]
    }
   ],
   "source": [
    "USV = U @ np.diag(S) @ Vh\n",
    "\n",
    "print(np.allclose(USV, A))\n",
    "\n",
    "print(USV)"
   ]
  },
  {
   "cell_type": "code",
   "execution_count": 6,
   "metadata": {},
   "outputs": [
    {
     "name": "stdout",
     "output_type": "stream",
     "text": [
      "U =\n",
      "[[-0.3863177  -0.92236578]\n",
      " [-0.92236578  0.3863177 ]]\n",
      "S =\n",
      "[9.508032   0.77286964]\n",
      "V =\n",
      "[[-0.42866713 -0.56630692 -0.7039467 ]\n",
      " [-0.80596391 -0.11238241  0.58119908]]\n"
     ]
    }
   ],
   "source": [
    "# Using our own compute SVD function\n",
    "U, S, Vh = compute_svd_ours(A)"
   ]
  },
  {
   "cell_type": "markdown",
   "metadata": {},
   "source": [
    "## Comment\n",
    "Note that for `U[:,1]` in `compute_svd_ours(A)`, we get the vector `[-0.92236578 0.3863177]^T`\n",
    "But the other algorithm (`compute_svd(A)`) gets `U[:,1] = [0.92236578 -0.3863177]^T`.\n",
    "\n",
    "This is due to a feature of eigenvectors. Here's the explanation:\n",
    "For a matrix $A$, the eigenvector $x$ (and the corresponding eigenvalue $\\lambda$ satisfies the equation:\n",
    "\\begin{equation}\n",
    " Ax = \\lambda x\n",
    "\\end{equation}\n",
    "\n",
    "But the negative eivenvector $-x$ also satisfies the equation (see below).\n",
    "\n",
    "\\begin{equation}\n",
    " A(-x) = \\lambda (-x) \\rightarrow Ax = \\lambda x\n",
    "\\end{equation}\n",
    "\n",
    "So, if $x$ is an eigenvector of a matrix $A$, $-x$ is also an eigenvector.\n",
    "\n",
    "We see that this affects our result when we try to reconstruct $A$ from $\\hat{U}$, $\\hat{\\Sigma}$ and $\\hat{V}$. ie. $A = \\hat{U}\\hat{\\Sigma}\\hat{V}^T$"
   ]
  },
  {
   "cell_type": "code",
   "execution_count": 7,
   "metadata": {},
   "outputs": [
    {
     "name": "stdout",
     "output_type": "stream",
     "text": [
      "False\n",
      "[[2.14909257 2.16022777 2.17136296]\n",
      " [3.51872152 4.93289124 6.34706096]]\n"
     ]
    }
   ],
   "source": [
    "USV = U @ np.diag(S) @ Vh\n",
    "\n",
    "print(np.allclose(USV, A))\n",
    "print(USV)"
   ]
  },
  {
   "cell_type": "markdown",
   "metadata": {},
   "source": [
    "But if we set `U[:,1] = -U[:,1]` , we would successfully reconstruct the matrix, $A$."
   ]
  },
  {
   "cell_type": "code",
   "execution_count": 8,
   "metadata": {},
   "outputs": [
    {
     "name": "stdout",
     "output_type": "stream",
     "text": [
      "True\n",
      "[[1. 2. 3.]\n",
      " [4. 5. 6.]]\n"
     ]
    }
   ],
   "source": [
    "U[:,1] = -U[:,1]\n",
    "\n",
    "USV = U @ np.diag(S) @ Vh\n",
    "\n",
    "print(np.allclose(USV, A))\n",
    "print(USV)"
   ]
  },
  {
   "cell_type": "markdown",
   "metadata": {},
   "source": [
    "## Question 3"
   ]
  },
  {
   "cell_type": "markdown",
   "metadata": {},
   "source": [
    "### a) Python function to compute the pseudo-inverse of A:"
   ]
  },
  {
   "cell_type": "code",
   "execution_count": 9,
   "metadata": {},
   "outputs": [],
   "source": [
    "def pseudo_inverse(A):\n",
    "    \"\"\"Computes the pseudo-inverse of a matrix A.\n",
    "\n",
    "    Args:\n",
    "        A: A 2D NumPy array.\n",
    "\n",
    "    Returns:\n",
    "        A 2D NumPy array, the pseudo-inverse of A.\n",
    "    \"\"\"\n",
    "\n",
    "    return np.linalg.inv(A.T@A)@A.T"
   ]
  },
  {
   "cell_type": "markdown",
   "metadata": {},
   "source": [
    "### b) Python function to use the pseudo-inverse to find the solution $x = A^† b$:"
   ]
  },
  {
   "cell_type": "code",
   "execution_count": 10,
   "metadata": {},
   "outputs": [],
   "source": [
    "def solve_lsq_with_pseudo_inverse(A, b):\n",
    "    \"\"\"\n",
    "    Solve the least-squares problem Ax = b using the pseudo-inverse of A.\n",
    "\n",
    "    Args:\n",
    "        A: A NumPy array representing the matrix A.\n",
    "        b: A NumPy array representing the vector b.\n",
    "\n",
    "    Returns:\n",
    "        A NumPy array representing the solution x to the least-squares problem Ax = b.\n",
    "    \"\"\"\n",
    "\n",
    "    A_pinv = pseudo_inverse(A)\n",
    "    return A_pinv @ b\n"
   ]
  },
  {
   "cell_type": "markdown",
   "metadata": {},
   "source": [
    "### Verify the computed pseudo-inverse and solution with NumPy's built-in least squares solver:"
   ]
  },
  {
   "cell_type": "code",
   "execution_count": 11,
   "metadata": {},
   "outputs": [
    {
     "name": "stdout",
     "output_type": "stream",
     "text": [
      "Pseudo-inverse matches!\n",
      "\n",
      "Computed solution matches with Numpy!\n"
     ]
    }
   ],
   "source": [
    "A = np.array([[1, 2], [3, 4]])\n",
    "b = np.array([5, 6])\n",
    "\n",
    "# Compute the pseudo-inverse of A using the custom function.\n",
    "A_pinv = pseudo_inverse(A)\n",
    "\n",
    "# Compute the solution to the least-squares problem using the pseudo-inverse.\n",
    "x = solve_lsq_with_pseudo_inverse(A, b)\n",
    "\n",
    "# Compute the solution to the least-squares problem using NumPy's built-in solver.\n",
    "x_numpy, _, _, _ = np.linalg.lstsq(A, b, rcond=None)\n",
    "\n",
    "# Verify that the computed pseudo-inverse and solution match the NumPy results.\n",
    "assert np.allclose(A_pinv, np.linalg.pinv(A))\n",
    "print(\"Pseudo-inverse matches!\")\n",
    "assert np.allclose(x, x_numpy)\n",
    "print(\"\\nComputed solution matches with Numpy!\")"
   ]
  },
  {
   "cell_type": "markdown",
   "metadata": {},
   "source": [
    "### c) Compute the condition number $κ_2(A)$ of matrix A:"
   ]
  },
  {
   "cell_type": "code",
   "execution_count": 12,
   "metadata": {},
   "outputs": [
    {
     "name": "stdout",
     "output_type": "stream",
     "text": [
      "The condition number of A computed using our own function is:\n",
      "14.999999999999984\n",
      "\n",
      "The condition number of A computed using numpy.linalg.cond is:\n",
      "14.999999999999998\n",
      "\n",
      "Condition numbers are identical!\n"
     ]
    }
   ],
   "source": [
    "def compute_condition_number(A):\n",
    "    \"\"\"\n",
    "    Compute the condition number κ_2(A) of a matrix A.\n",
    "\n",
    "    Args:\n",
    "        A: A NumPy array representing the matrix A.\n",
    "\n",
    "    Returns:\n",
    "        The condition number κ_2(A) of the matrix A.\n",
    "    \"\"\"\n",
    "\n",
    "    return np.linalg.norm(A,'fro')*np.linalg.norm(pseudo_inverse(A),'fro')\n",
    "\n",
    "condition_number_ours = compute_condition_number(A)\n",
    "condition_number_numpy = np.linalg.cond(A,'fro')\n",
    "\n",
    "# Confirm the computed condition number with NumPy's built-in function.\n",
    "assert np.allclose(condition_number_ours, condition_number_numpy)\n",
    "print(\"The condition number of A computed using our own function is:\")\n",
    "print(condition_number_ours)\n",
    "\n",
    "print(\"\\nThe condition number of A computed using numpy.linalg.cond is:\")\n",
    "print(condition_number_numpy)\n",
    "print(\"\\nCondition numbers are identical!\")"
   ]
  },
  {
   "cell_type": "markdown",
   "metadata": {},
   "source": [
    "### d) Generate a small perturbation $∆b = [δ, δ]$ for a range of $δ$ values and compute the corresponding $∆x$ for each:"
   ]
  },
  {
   "cell_type": "code",
   "execution_count": 13,
   "metadata": {},
   "outputs": [],
   "source": [
    "def generate_perturbation(delta):\n",
    "    \"\"\"\n",
    "    Generate a small perturbation ∆b = [δ, δ] for a given δ value.\n",
    "\n",
    "    Args:\n",
    "        delta: The value of δ.\n",
    "\n",
    "    Returns:\n",
    "        A NumPy array representing the perturbation ∆b.\n",
    "    \"\"\"\n",
    "\n",
    "    return np.array([delta, delta])\n",
    "\n",
    "def compute_delta_x(A, b, perturb):\n",
    "    \"\"\"\n",
    "    Compute the perturbed solution ∆x to the least-squares problem Ax = b for a given δ value.\n",
    "\n",
    "    Args:\n",
    "        A: A NumPy array representing the matrix A.\n",
    "        b: A NumPy array representing the vector b.\n",
    "        perturb: The perturbation [δ,δ].\n",
    "\n",
    "    Returns:\n",
    "        A NumPy array representing the perturbed solution ∆x.\n",
    "    \"\"\"\n",
    "\n",
    "    b_perturbed = b + perturb\n",
    "    x_perturbed = solve_lsq_with_pseudo_inverse(A, b_perturbed)\n",
    "    \n",
    "    return x_perturbed - x\n"
   ]
  },
  {
   "cell_type": "code",
   "execution_count": 14,
   "metadata": {},
   "outputs": [
    {
     "data": {
      "image/png": "[encoded data removed]",
      "text/plain": [
       "<Figure size 432x288 with 1 Axes>"
      ]
     },
     "metadata": {
      "needs_background": "light"
     },
     "output_type": "display_data"
    }
   ],
   "source": [
    "# Generate a range of δ values.\n",
    "delta_values = np.arange(0.01, 0.1, 0.01)\n",
    "\n",
    "# Compute eta.\n",
    "eta = np.linalg.norm(A,'fro')*np.linalg.norm(x,2)/np.linalg.norm(A@x,2)\n",
    "\n",
    "# Compute the cosine of the angle between A and b.\n",
    "cos_theta = np.linalg.norm(A@x,2) / np.linalg.norm(b, 2)\n",
    "\n",
    "# Compute condition number k_2\n",
    "k_2 = compute_condition_number(A)\n",
    "\n",
    "# Compute |∆x|_2/|x|_2 and (κ_2(A)/η cos(θ))* (|∆b|_2/|b|_2) for each δ value.\n",
    "norm_delX_norm_x = []\n",
    "bound_values = []\n",
    "for delta in delta_values:\n",
    "    perturbation = generate_perturbation(delta)\n",
    "    delta_x = compute_delta_x(A, b, perturbation)\n",
    "    delta_x_norm = np.linalg.norm(delta_x, 2)\n",
    "    x_norm = np.linalg.norm(x, 2)\n",
    "    norm_delX_norm_x.append(delta_x_norm/x_norm)\n",
    "\n",
    "    bound_item = (k_2/(eta*cos_theta)) * (np.linalg.norm(perturbation,2)/np.linalg.norm(b,2))\n",
    "    bound_values.append(bound_item)\n",
    "\n",
    "# Plot |∆x|_2/|x|_2 versus (κ_2(A)/η cos(θ))* (|∆b|_2/|b|_2).\n",
    "plt.plot(bound_values, norm_delX_norm_x, 'o')\n",
    "plt.xlabel(r'$\\frac{\\kappa_2(A)}{\\eta cos(\\theta)} . \\frac{|\\Delta b|_2}{|b|_2}$')\n",
    "plt.ylabel(r'$\\frac{|\\Delta x|_2}{|x|_2}$')\n",
    "plt.title('Bound on the relative change in the solution for a small perturbation')\n",
    "plt.show()\n"
   ]
  },
  {
   "cell_type": "markdown",
   "metadata": {},
   "source": [
    "### e) A function implementing LSQ SVD algorithm, and verifying it gives the same solution as before for the given $A$ and $b$."
   ]
  },
  {
   "cell_type": "code",
   "execution_count": 15,
   "metadata": {},
   "outputs": [],
   "source": [
    "def lsq_svd(A, b):\n",
    "    \"\"\"Computes the least squares solution to the linear system Ax = b using the SVD.\n",
    "\n",
    "    Args:\n",
    "        A: A 2D NumPy array, the matrix A.\n",
    "        b: A 2D NumPy array, the vector b.\n",
    "\n",
    "    Returns:\n",
    "        A 2D NumPy array, the least squares solution x.\n",
    "    \"\"\"\n",
    "\n",
    "    # Compute the SVD of A.\n",
    "    U, S, VT = compute_svd(A)\n",
    "\n",
    "    # Compute the inverse of S.\n",
    "    S_inv = np.diag(1 / S)\n",
    "\n",
    "    # Compute the pseudo-inverse of A.\n",
    "    A_pinv = VT.T @ S_inv @ U.T\n",
    "\n",
    "    # Compute the least squares solution x.\n",
    "    x = A_pinv @ b\n",
    "\n",
    "    return x\n"
   ]
  },
  {
   "cell_type": "code",
   "execution_count": 16,
   "metadata": {},
   "outputs": [
    {
     "name": "stdout",
     "output_type": "stream",
     "text": [
      "The least squares solution using the LSQ SVD algorithm is [-4.   4.5].\n",
      "The least squares solution using the lsq w/ pseudo_inverse is [-4.   4.5].\n"
     ]
    }
   ],
   "source": [
    "\"\"\"Verifies that the LSQ SVD algorithm gives the same solution as before for the given A and b.\"\"\"\n",
    "\n",
    "# Compute the least squares solution using the LSQ SVD algorithm.\n",
    "x_svd = lsq_svd(A, b)\n",
    "\n",
    "# Compute the least squares solution using the solve_lsq_with_pseudo_inverse function.\n",
    "x_lsq_pseudo = solve_lsq_with_pseudo_inverse(A, b)\n",
    "\n",
    "# Verify that the two solutions are equal.\n",
    "assert np.allclose(x_svd, x_lsq_pseudo)\n",
    "\n",
    "print(f\"The least squares solution using the LSQ SVD algorithm is {x_svd}.\")\n",
    "\n",
    "print(f\"The least squares solution using the lsq w/ pseudo_inverse is {x_lsq_pseudo}.\")\n"
   ]
  },
  {
   "cell_type": "markdown",
   "metadata": {},
   "source": [
    "As you can see, the two solutions are identical.\n",
    "\n",
    "The complexity of the LSQ SVD algorithm can be analyzed as follows:\n",
    "\n",
    "* The SVD of A is computed using numpy.linalg.svd, which has a complexity of $O(mn^2)$.\n",
    "* The inverse of S is computed using numpy.diag, which has a complexity of $O(n)$.\n",
    "* The pseudo-inverse of A is computed using matrix multiplication, which has a complexity of $O(mn^2)$.\n",
    "* The least squares solution x is computed using matrix multiplication, which has a complexity of $O(mn^2)$.\n",
    "\n",
    "Therefore, the overall complexity of the LSQ SVD algorithm is $O(mn^2)$."
   ]
  },
  {
   "cell_type": "code",
   "execution_count": null,
   "metadata": {},
   "outputs": [],
   "source": []
  },
  {
   "cell_type": "code",
   "execution_count": null,
   "metadata": {},
   "outputs": [],
   "source": []
  }
 ],
 "metadata": {
  "kernelspec": {
   "display_name": "Python 3",
   "language": "python",
   "name": "python3"
  },
  "language_info": {
   "codemirror_mode": {
    "name": "ipython",
    "version": 3
   },
   "file_extension": ".py",
   "mimetype": "text/x-python",
   "name": "python",
   "nbconvert_exporter": "python",
   "pygments_lexer": "ipython3",
   "version": "3.8.5"
  }
 },
 "nbformat": 4,
 "nbformat_minor": 4
}

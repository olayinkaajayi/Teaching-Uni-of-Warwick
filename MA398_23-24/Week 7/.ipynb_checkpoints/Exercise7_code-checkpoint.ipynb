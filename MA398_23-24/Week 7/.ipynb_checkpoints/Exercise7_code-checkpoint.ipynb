{
 "cells": [
  {
   "cell_type": "code",
   "execution_count": 1,
   "metadata": {},
   "outputs": [],
   "source": [
    "import numpy as np\n",
    "import matplotlib.pyplot as plt"
   ]
  },
  {
   "cell_type": "markdown",
   "metadata": {},
   "source": [
    "## Question 2"
   ]
  },
  {
   "cell_type": "code",
   "execution_count": 2,
   "metadata": {},
   "outputs": [
    {
     "name": "stdout",
     "output_type": "stream",
     "text": [
      "Is QR = A? True\n"
     ]
    }
   ],
   "source": [
    "# Generate a random 3x2 matrix A\n",
    "A = np.random.rand(3, 2)\n",
    "\n",
    "# Perform QR factorization of A\n",
    "Q, R = np.linalg.qr(A)\n",
    "\n",
    "# Check the correctness of the factorization\n",
    "QR = np.dot(Q, R)\n",
    "print(f\"Is QR = A? {np.allclose(QR, A)}\")"
   ]
  },
  {
   "cell_type": "code",
   "execution_count": 3,
   "metadata": {},
   "outputs": [
    {
     "name": "stdout",
     "output_type": "stream",
     "text": [
      "Q=\n",
      " [[-0.63465501  0.33552822]\n",
      " [-0.44004797 -0.89742642]\n",
      " [-0.63527222  0.28643785]]\n",
      "\n",
      "<q1,q2> = 0.000\n",
      "\n",
      "||q1||=1.00, ||q2||=1.00.\n",
      "\n",
      "R=\n",
      " [[-1.56366283 -0.77989191]\n",
      " [ 0.         -0.51539653]]\n"
     ]
    }
   ],
   "source": [
    "print(\"Q=\\n\",Q)\n",
    "# To check that they are orthogonal\n",
    "q1 = Q[:,0]\n",
    "q2 = Q[:,1]\n",
    "print(f\"\\n<q1,q2> = {q1@q2:.3f}\")\n",
    "print()\n",
    "# To check that they are of unit length\n",
    "print(f\"||q1||={np.linalg.norm(q1):.2f}, ||q2||={np.linalg.norm(q2):.2f}.\")\n",
    "print()\n",
    "print(\"R=\\n\",R)"
   ]
  },
  {
   "cell_type": "code",
   "execution_count": 4,
   "metadata": {},
   "outputs": [
    {
     "name": "stdout",
     "output_type": "stream",
     "text": [
      "Frobenius norm of the difference between QR and A: 3.6821932062951477e-16\n"
     ]
    }
   ],
   "source": [
    "# Define a function to compute the Frobenius norm of a matrix\n",
    "def frobenius_norm(matrix):\n",
    "    return np.sqrt(np.sum(np.abs(matrix)**2))\n",
    "\n",
    "# Calculate the Frobenius norm of the difference between QR and A\n",
    "frobenius_norm_diff = frobenius_norm(QR - A)\n",
    "print(f\"Frobenius norm of the difference between QR and A: {frobenius_norm_diff}\")\n"
   ]
  },
  {
   "cell_type": "markdown",
   "metadata": {},
   "source": [
    "## Question 4"
   ]
  },
  {
   "cell_type": "code",
   "execution_count": 5,
   "metadata": {},
   "outputs": [],
   "source": [
    "def jacobi_method(A, b, x0, max_iter=1000, tol=1e-5, get_res=False):\n",
    "   \n",
    "    # Initialize variables for iteration\n",
    "    x = x0.copy()\n",
    "    D = np.diag(A) # Also considered as M\n",
    "    N = A - np.diag(D) # Also considered as L + U\n",
    "    diff = np.inf\n",
    "    iter_count = 0\n",
    "\n",
    "    # Track all the update values of x\n",
    "    x_new = []\n",
    "    \n",
    "    if get_res:\n",
    "        # If we need to track the residuals\n",
    "        residual = []\n",
    "        \n",
    "    # Perform Jacobi iterations until convergence or maximum iterations reached\n",
    "    while diff > tol and iter_count < max_iter:\n",
    "        \n",
    "        # Update each element of x using the Jacobi formula\n",
    "        latest_x = (b - np.dot(N, x)) / D\n",
    "        x_new.append( latest_x )\n",
    "\n",
    "        # Calculate the difference between the current and updated solutions\n",
    "        diff = np.linalg.norm(latest_x - x)\n",
    "        if get_res:\n",
    "            residual.append(np.linalg.norm(A@latest_x - b))\n",
    "\n",
    "        # Update the current solution\n",
    "        x = latest_x\n",
    "        iter_count += 1\n",
    "        \n",
    "    if get_res:\n",
    "        # we will only need the resudual for our plot\n",
    "        return residual\n",
    "        # for this case, the code will terminate here.\n",
    "\n",
    "    if iter_count >= max_iter:\n",
    "        print(\"Maximum iteration reached!\")\n",
    "        print(r\"$||x_{k+1} - x_k||_2$\"+f\"={diff:.4f} > tol = {tol}\")\n",
    "        \n",
    "    return x , iter_count\n"
   ]
  },
  {
   "cell_type": "markdown",
   "metadata": {},
   "source": [
    "Test your function on a $3\\times3$ system of equations. Experiment with different initial guesses, maximum number of iterations, and tolerance levels. Plot the norm of the residual vector as a function of the number of iterations. What do you observe about the convergence of the method?"
   ]
  },
  {
   "cell_type": "code",
   "execution_count": 6,
   "metadata": {},
   "outputs": [],
   "source": [
    "A = np.array([[7, 2, 3],\n",
    "             [2, 4, 0.3],\n",
    "             [5, 0.2, -6]])\n",
    "b = np.array([-4, 1, 3])"
   ]
  },
  {
   "cell_type": "code",
   "execution_count": 7,
   "metadata": {},
   "outputs": [
    {
     "name": "stdout",
     "output_type": "stream",
     "text": [
      "It took 21 iterations.\n",
      "Are the solutions close? Yes.\n",
      "Numpy solver: x=[-0.37278993  0.49595445 -0.79412646]\n",
      "Jacobi solver: x=[-0.37278963  0.49595476 -0.79412684]\n"
     ]
    }
   ],
   "source": [
    "# Solve with built-in numpy solver\n",
    "x = np.linalg.solve(A,b)\n",
    "\n",
    "# Solve with our Jacobi function\n",
    "# Set initial guess, maximum iterations, and tolerance\n",
    "x0 = np.array([-1,1,1])\n",
    "max_iter = 100\n",
    "tol = 1e-6\n",
    "\n",
    "# You can experiment with all the parameters and see how this affects your result.\n",
    "x_jac, iter_count = jacobi_method(A, b, x0, max_iter, tol)\n",
    "print(f\"It took {iter_count} iterations.\")\n",
    "\n",
    "print(f\"Are the solutions close? {'Yes' if np.allclose(x, x_jac) else 'No'}.\")\n",
    "\n",
    "print(f\"Numpy solver: x={x}\")\n",
    "print(f\"Jacobi solver: x={x_jac}\")"
   ]
  },
  {
   "cell_type": "code",
   "execution_count": 8,
   "metadata": {},
   "outputs": [
    {
     "name": "stdout",
     "output_type": "stream",
     "text": [
      "Solution is [ 1.  4. -2.].\n",
      "\n",
      "For Jacobian method:\n",
      "Maximum iteration reached!\n",
      "$||x_{k+1} - x_k||_2$=inf > tol = 1e-05\n"
     ]
    },
    {
     "data": {
      "text/plain": [
       "(array([-1.12241650e+252, -3.73103898e+251, -4.19092873e+251]), 1000)"
      ]
     },
     "execution_count": 8,
     "metadata": {},
     "output_type": "execute_result"
    }
   ],
   "source": [
    "# Non-diagonally dominant example\n",
    "A = np.array([[1, 2, 3],\n",
    "            [2, 4, 1],\n",
    "            [3, 1, 5]])\n",
    "b = np.array([3, 16, -3])\n",
    "\n",
    "print(f\"Solution is {np.linalg.solve(A,b)}.\")\n",
    "\n",
    "print(\"\\nFor Jacobian method:\")\n",
    "x_init = np.random.randn(3)\n",
    "jacobi_method(A, b, x0 = x_init)"
   ]
  },
  {
   "cell_type": "code",
   "execution_count": 9,
   "metadata": {},
   "outputs": [
    {
     "name": "stdout",
     "output_type": "stream",
     "text": [
      "Solution: [ 2.41772169 -0.7974686   1.53164579]\n",
      "Number of iterations: 41\n"
     ]
    },
    {
     "data": {
      "image/png": "[encoded data removed]",
      "text/plain": [
       "<Figure size 432x288 with 1 Axes>"
      ]
     },
     "metadata": {
      "needs_background": "light"
     },
     "output_type": "display_data"
    }
   ],
   "source": [
    "# Define the system of equations\n",
    "A = np.array([[4, -1, 1],\n",
    "              [-1, 5, -3],\n",
    "              [1, -3, 6]])\n",
    "b = np.array([12, -11, 14])\n",
    "\n",
    "# Set initial guess, maximum iterations, and tolerance\n",
    "x0 = np.zeros_like(b)\n",
    "max_iter = 100\n",
    "tol = 1e-6\n",
    "\n",
    "# Solve the system using the Jacobi method\n",
    "x, iter_count = jacobi_method(A, b, x0, max_iter, tol)\n",
    "\n",
    "# Print the solution and number of iterations\n",
    "print(\"Solution:\", x)\n",
    "print(\"Number of iterations:\", iter_count)\n",
    "\n",
    "# Calculate the norm of the residual vector at each iteration\n",
    "residuals = jacobi_method(A, b, x0, max_iter, tol, get_res=True)\n",
    "\n",
    "# Plot the norm of the residual vector as a function of iterations\n",
    "plt.plot(range(len(residuals)), residuals,'-o')\n",
    "plt.xlabel(\"Number of iterations\")\n",
    "plt.ylabel(\"$||Ax* - b||_2$\")\n",
    "plt.title(\"Convergence of Jacobi method\")\n",
    "plt.show()\n"
   ]
  },
  {
   "cell_type": "markdown",
   "metadata": {},
   "source": [
    "## Observations about the convergence of the Jacobi method:\n",
    "\n",
    "* The Jacobi method converges to the correct solution for strictly diagonally dominant systems of equations.\n",
    "\n",
    "* The rate of convergence depends on the initial guess and the dominance of the diagonal elements.\n",
    "\n",
    "* The tolerance level determines the accuracy of the solution. A smaller tolerance will result in a more accurate solution, but it may require more iterations.\n",
    "\n",
    "* The norm of the residual vector decreases monotonically with each iteration, indicating that the solution is getting closer to the correct value.\n",
    "\n",
    "* The Jacobi method is not guaranteed to converge for all systems of equations. Some systems may require a different iterative method."
   ]
  },
  {
   "cell_type": "code",
   "execution_count": null,
   "metadata": {},
   "outputs": [],
   "source": []
  }
 ],
 "metadata": {
  "kernelspec": {
   "display_name": "Python 3",
   "language": "python",
   "name": "python3"
  },
  "language_info": {
   "codemirror_mode": {
    "name": "ipython",
    "version": 3
   },
   "file_extension": ".py",
   "mimetype": "text/x-python",
   "name": "python",
   "nbconvert_exporter": "python",
   "pygments_lexer": "ipython3",
   "version": "3.8.5"
  }
 },
 "nbformat": 4,
 "nbformat_minor": 4
}

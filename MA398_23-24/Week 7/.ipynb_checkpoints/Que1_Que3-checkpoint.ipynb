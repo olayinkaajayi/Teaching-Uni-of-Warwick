{
 "cells": [
  {
   "cell_type": "markdown",
   "metadata": {},
   "source": [
    "## Question 1\n",
    "Given\n",
    "\\begin{equation}\n",
    "A =\n",
    "\\begin{bmatrix}\n",
    "| & |\\\\\n",
    "a_1 & a_2 \\\\\n",
    "| & |\n",
    "\\end{bmatrix}\n",
    "\\end{equation}\n",
    "\n",
    "To obtain $A=QR$, we proceed as follows:\n",
    "\n",
    "\\begin{equation}\n",
    "\\hat{q}_1 = \\frac{1}{||a_1||}a_1\n",
    "\\end{equation}\n",
    "\n",
    "\\begin{equation}\n",
    "\\hat{q}_2 = a_2  -  <q_1, a_2>q_1 \\implies \\hat{q}_2 = \\frac{1}{||q_2||}\\hat{q}_2\n",
    "\\end{equation}\n",
    "\n",
    "\\begin{equation}\n",
    "Q =\n",
    "\\begin{bmatrix}\n",
    "| & |\\\\\n",
    "q_1 & q_2 \\\\\n",
    "| & |\n",
    "\\end{bmatrix}\n",
    "\\end{equation}\n",
    "\n",
    "\\begin{equation}\n",
    "R = \n",
    "\\begin{bmatrix}\n",
    "||q_1|| & <q_1, a_2>\\\\\n",
    "0 & ||q_2||\n",
    "\\end{bmatrix}\n",
    "\\end{equation}"
   ]
  },
  {
   "cell_type": "code",
   "execution_count": 1,
   "metadata": {},
   "outputs": [],
   "source": [
    "import numpy as np"
   ]
  },
  {
   "cell_type": "code",
   "execution_count": 2,
   "metadata": {},
   "outputs": [],
   "source": [
    "A = np.array([[1,5],\n",
    "             [2,3],\n",
    "             [4,3]])"
   ]
  },
  {
   "cell_type": "code",
   "execution_count": 3,
   "metadata": {},
   "outputs": [
    {
     "name": "stdout",
     "output_type": "stream",
     "text": [
      "[[0.21821789]\n",
      " [0.43643578]\n",
      " [0.87287156]]\n"
     ]
    }
   ],
   "source": [
    "a1 = A[:,0].reshape(3,1)\n",
    "a2 = A[:,1].reshape(3,1)\n",
    "q1_hat = a1\n",
    "q1 = q1_hat/np.linalg.norm(q1_hat)\n",
    "q1 = q1.reshape(3,1)\n",
    "print(q1)"
   ]
  },
  {
   "cell_type": "code",
   "execution_count": 4,
   "metadata": {},
   "outputs": [
    {
     "name": "stdout",
     "output_type": "stream",
     "text": [
      "[[ 0.92526984]\n",
      " [ 0.19182423]\n",
      " [-0.32722958]]\n"
     ]
    }
   ],
   "source": [
    "q1_dot_a2 = (q1.T@a2).item()\n",
    "q2_hat = a2 - q1_dot_a2*q1\n",
    "q2 = q2_hat/np.linalg.norm(q2_hat)\n",
    "print(q2)"
   ]
  },
  {
   "cell_type": "code",
   "execution_count": 5,
   "metadata": {},
   "outputs": [
    {
     "name": "stdout",
     "output_type": "stream",
     "text": [
      "[[ 0.21821789  0.92526984]\n",
      " [ 0.43643578  0.19182423]\n",
      " [ 0.87287156 -0.32722958]]\n"
     ]
    }
   ],
   "source": [
    "Q = np.concatenate([q1,q2],axis=1)\n",
    "print(Q)"
   ]
  },
  {
   "cell_type": "code",
   "execution_count": 6,
   "metadata": {},
   "outputs": [
    {
     "name": "stdout",
     "output_type": "stream",
     "text": [
      "[[ 1. -0.]\n",
      " [-0.  1.]]\n"
     ]
    }
   ],
   "source": [
    "# We see that Q is an orthonormal matrix\n",
    "QT_Q = Q.T@Q\n",
    "print(np.round(QT_Q,4))"
   ]
  },
  {
   "cell_type": "code",
   "execution_count": 7,
   "metadata": {},
   "outputs": [
    {
     "name": "stdout",
     "output_type": "stream",
     "text": [
      "[[4.58257569 5.01901148]\n",
      " [0.         4.22013315]]\n"
     ]
    }
   ],
   "source": [
    "# We get R using the description provided earlier above\n",
    "R = np.array([[np.linalg.norm(q1_hat), q1_dot_a2],\n",
    "             [0, np.linalg.norm(q2_hat)]])\n",
    "print(R)"
   ]
  },
  {
   "cell_type": "code",
   "execution_count": 8,
   "metadata": {},
   "outputs": [
    {
     "name": "stdout",
     "output_type": "stream",
     "text": [
      "[[1. 5.]\n",
      " [2. 3.]\n",
      " [4. 3.]]\n"
     ]
    }
   ],
   "source": [
    "# We compute QR and get the original matrix A\n",
    "QR = Q@R\n",
    "print(QR)"
   ]
  },
  {
   "cell_type": "code",
   "execution_count": 9,
   "metadata": {},
   "outputs": [
    {
     "name": "stdout",
     "output_type": "stream",
     "text": [
      "Q=\n",
      " [[-0.21821789  0.92526984]\n",
      " [-0.43643578  0.19182423]\n",
      " [-0.87287156 -0.32722958]]\n",
      "\n",
      "R=\n",
      " [[-4.58257569 -5.01901148]\n",
      " [ 0.          4.22013315]]\n"
     ]
    }
   ],
   "source": [
    "# Computing QR using the built-in numpy method\n",
    "Q_np , R_np = np.linalg.qr(A)\n",
    "\n",
    "print(\"Q=\\n\",Q_np)\n",
    "print()\n",
    "print(\"R=\\n\",R_np)"
   ]
  },
  {
   "cell_type": "code",
   "execution_count": 10,
   "metadata": {},
   "outputs": [
    {
     "data": {
      "text/plain": [
       "array([[1., 5.],\n",
       "       [2., 3.],\n",
       "       [4., 3.]])"
      ]
     },
     "execution_count": 10,
     "metadata": {},
     "output_type": "execute_result"
    }
   ],
   "source": [
    "Q_np @ R_np"
   ]
  },
  {
   "cell_type": "markdown",
   "metadata": {},
   "source": [
    "## Question 3\n",
    "\n",
    "We compute $Q$, $R$ and $H_i$ such that\n",
    "\n",
    "\\begin{equation}\n",
    "Q = H_1 . H_2 .  \\cdots . H_n \\, , \\text{    and    } R^{(k)} = H_kR^{(k-1)}\n",
    "\\end{equation}\n",
    "\n",
    "and\n",
    "\n",
    "\\begin{equation}\n",
    "H_i = I - 2v_iv_i^T\n",
    "\\end{equation}\n",
    "\n",
    "$v_i$ is computed using\n",
    "\n",
    "\\begin{equation}\n",
    "v_i = ||u_i||e_i - u_i\n",
    "\\end{equation}\n",
    "\n",
    "$v_i$ is sometimes computed as\n",
    "\\begin{equation}\n",
    "\\hat{v}_i = u_i + \\mathrm{sign}(u_i^{(i)}) ||u_i||e_i \\, \\implies v_i = \\frac{1}{||\\hat{v}_i||}\\hat{v}_i\n",
    "\\end{equation}\n",
    "\n",
    "where $\\mathrm{sign}(u_i^{(i)})$ is the sign of the $i^{\\text{th}}$ index of the vector $u_i$. This does not in anyway change the computed result (you can check and see for yourself).\n",
    "\n",
    "\n",
    "where $e_i = [0,0,\\cdots,0,1,0,\\cdots,0,0]^T$ where we have $1$ only at index $i$.\n",
    "\n",
    "Also, after the first iteration, for subsequent iterations $i$, we set $u_i^{(1)}, u_i^{(2}), \\cdots , u_{i}^{(i-1)} = 0$. Note that the superscript is the index within the vector. \n",
    "\n",
    "Finally, $u_i = R_i^{(i)}$ is the $i^{\\text{th}}$ column of $R^{(i)}$. And for the $0^{\\text{th}}$ iteration, $R^{(0)} = A$."
   ]
  },
  {
   "cell_type": "code",
   "execution_count": 11,
   "metadata": {},
   "outputs": [],
   "source": [
    "A = np.array([[2,3,4],\n",
    "             [1,1,1],\n",
    "             [4,3,2]])"
   ]
  },
  {
   "cell_type": "code",
   "execution_count": 12,
   "metadata": {},
   "outputs": [
    {
     "name": "stdout",
     "output_type": "stream",
     "text": [
      "[[2]\n",
      " [1]\n",
      " [4]]\n"
     ]
    }
   ],
   "source": [
    "u1 = A[:,0].reshape(3,1)\n",
    "print(u1)"
   ]
  },
  {
   "cell_type": "code",
   "execution_count": 13,
   "metadata": {},
   "outputs": [
    {
     "name": "stdout",
     "output_type": "stream",
     "text": [
      "[[6.58257569]\n",
      " [1.        ]\n",
      " [4.        ]]\n"
     ]
    }
   ],
   "source": [
    "e1 = np.array([1,0,0]).reshape(3,1)\n",
    "v1_hat = u1 + (1)*np.linalg.norm(u1)*e1\n",
    "print(v1_hat)"
   ]
  },
  {
   "cell_type": "code",
   "execution_count": 14,
   "metadata": {},
   "outputs": [
    {
     "name": "stdout",
     "output_type": "stream",
     "text": [
      "[[0.84747737]\n",
      " [0.12874556]\n",
      " [0.51498222]]\n"
     ]
    }
   ],
   "source": [
    "v1 = v1_hat/np.linalg.norm(v1_hat)\n",
    "print(v1)"
   ]
  },
  {
   "cell_type": "code",
   "execution_count": 15,
   "metadata": {},
   "outputs": [
    {
     "name": "stdout",
     "output_type": "stream",
     "text": [
      "[[-0.43643578 -0.21821789 -0.87287156]\n",
      " [-0.21821789  0.96684916 -0.13260335]\n",
      " [-0.87287156 -0.13260335  0.46958662]]\n"
     ]
    }
   ],
   "source": [
    "H1 = np.eye(3) - 2*v1@v1.T\n",
    "print(H1)"
   ]
  },
  {
   "cell_type": "code",
   "execution_count": 16,
   "metadata": {},
   "outputs": [
    {
     "name": "stdout",
     "output_type": "stream",
     "text": [
      "[[ 1.  0. -0.]\n",
      " [ 0.  1.  0.]\n",
      " [-0.  0.  1.]]\n"
     ]
    }
   ],
   "source": [
    "# We see that H1 is orthonormal, so H1.H1^T = I (identity)\n",
    "H1_H1T = H1@H1.T\n",
    "print(np.round(H1_H1T,4))"
   ]
  },
  {
   "cell_type": "code",
   "execution_count": 17,
   "metadata": {},
   "outputs": [
    {
     "name": "stdout",
     "output_type": "stream",
     "text": [
      "[[-4.5826 -4.1461 -3.7097]\n",
      " [-0.     -0.0856 -0.1712]\n",
      " [ 0.     -1.3425 -2.6849]]\n"
     ]
    }
   ],
   "source": [
    "R0 = A\n",
    "R1 = H1@R0\n",
    "print(np.round(R1,4))"
   ]
  },
  {
   "cell_type": "code",
   "execution_count": 18,
   "metadata": {},
   "outputs": [
    {
     "name": "stdout",
     "output_type": "stream",
     "text": [
      "[[ 0.        ]\n",
      " [-0.08561454]\n",
      " [-1.34245818]]\n"
     ]
    }
   ],
   "source": [
    "u2 = R1[:,1]\n",
    "u2[0] = 0\n",
    "u2 = u2.reshape(3,1)\n",
    "print(u2)"
   ]
  },
  {
   "cell_type": "code",
   "execution_count": 19,
   "metadata": {},
   "outputs": [
    {
     "name": "stdout",
     "output_type": "stream",
     "text": [
      "[[ 0.        ]\n",
      " [-1.43079996]\n",
      " [-1.34245818]]\n"
     ]
    }
   ],
   "source": [
    "e2 = np.array([0,1,0]).reshape(3,1)\n",
    "v2_hat = u2 + (-1)*np.linalg.norm(u2)*e2\n",
    "print(v2_hat)"
   ]
  },
  {
   "cell_type": "code",
   "execution_count": 20,
   "metadata": {},
   "outputs": [
    {
     "name": "stdout",
     "output_type": "stream",
     "text": [
      "[[ 0.        ]\n",
      " [-0.72926167]\n",
      " [-0.68423491]]\n"
     ]
    }
   ],
   "source": [
    "v2 = v2_hat/np.linalg.norm(v2_hat)\n",
    "print(v2)"
   ]
  },
  {
   "cell_type": "code",
   "execution_count": 21,
   "metadata": {},
   "outputs": [
    {
     "name": "stdout",
     "output_type": "stream",
     "text": [
      "[[ 1.          0.          0.        ]\n",
      " [ 0.         -0.06364516 -0.99797259]\n",
      " [ 0.         -0.99797259  0.06364516]]\n"
     ]
    }
   ],
   "source": [
    "H2 = np.eye(3) - 2*v2@v2.T\n",
    "print(H2)"
   ]
  },
  {
   "cell_type": "code",
   "execution_count": 22,
   "metadata": {},
   "outputs": [
    {
     "name": "stdout",
     "output_type": "stream",
     "text": [
      "[[1. 0. 0.]\n",
      " [0. 1. 0.]\n",
      " [0. 0. 1.]]\n"
     ]
    }
   ],
   "source": [
    "# We see that H2 is orthonormal, so H2.H2^T = I (identity)\n",
    "H2_HT = H2@H2\n",
    "print(np.round(H2_HT,4))"
   ]
  },
  {
   "cell_type": "code",
   "execution_count": 23,
   "metadata": {},
   "outputs": [
    {
     "name": "stdout",
     "output_type": "stream",
     "text": [
      "[[-4.5826  0.     -3.7097]\n",
      " [ 0.      1.3452  2.6904]\n",
      " [ 0.      0.     -0.    ]]\n"
     ]
    }
   ],
   "source": [
    "R2 = H2@R1\n",
    "print(np.round(R2,4))"
   ]
  },
  {
   "cell_type": "code",
   "execution_count": 24,
   "metadata": {},
   "outputs": [
    {
     "name": "stdout",
     "output_type": "stream",
     "text": [
      "[[-0.43643578  0.88499041  0.16222142]\n",
      " [-0.21821789  0.07079923 -0.97332853]\n",
      " [-0.87287156 -0.46019501  0.16222142]]\n"
     ]
    }
   ],
   "source": [
    "# Now we have that Q = H1.H2\n",
    "\n",
    "Q = H1 @ H2\n",
    "print(Q)"
   ]
  },
  {
   "cell_type": "code",
   "execution_count": 25,
   "metadata": {},
   "outputs": [
    {
     "name": "stdout",
     "output_type": "stream",
     "text": [
      "[[ 1. -0. -0.]\n",
      " [-0.  1.  0.]\n",
      " [-0.  0.  1.]]\n"
     ]
    }
   ],
   "source": [
    "# We check that Q is orthonormal Q.Q^T = I (identity) \n",
    "Q_QT = Q@Q.T\n",
    "print(np.round(Q_QT,4))"
   ]
  },
  {
   "cell_type": "code",
   "execution_count": 26,
   "metadata": {},
   "outputs": [
    {
     "name": "stdout",
     "output_type": "stream",
     "text": [
      "[[-4.5826  0.     -3.7097]\n",
      " [ 0.      1.3452  2.6904]\n",
      " [ 0.      0.     -0.    ]]\n"
     ]
    }
   ],
   "source": [
    "# Since we now have R^(2) as an upper triangular matrix, we stop the process\n",
    "# And R = R2\n",
    "\n",
    "R = R2\n",
    "\n",
    "print(np.round(R,4))"
   ]
  },
  {
   "cell_type": "code",
   "execution_count": 27,
   "metadata": {},
   "outputs": [
    {
     "name": "stdout",
     "output_type": "stream",
     "text": [
      "[[ 2.          1.19047619  4.        ]\n",
      " [ 1.          0.0952381   1.        ]\n",
      " [ 4.         -0.61904762  2.        ]]\n"
     ]
    }
   ],
   "source": [
    "# Finally we check that A = QR\n",
    "\n",
    "print(Q@R)\n",
    "# There is a problem with all calculation somewhere...."
   ]
  },
  {
   "cell_type": "code",
   "execution_count": 28,
   "metadata": {},
   "outputs": [],
   "source": [
    "# Compute QR using numpy built-in function \n",
    "Q_np, R_np = np.linalg.qr(A)"
   ]
  },
  {
   "cell_type": "code",
   "execution_count": 29,
   "metadata": {},
   "outputs": [
    {
     "name": "stdout",
     "output_type": "stream",
     "text": [
      "Q_np=\n",
      " [[-0.4364  0.885   0.1622]\n",
      " [-0.2182  0.0708 -0.9733]\n",
      " [-0.8729 -0.4602  0.1622]]\n"
     ]
    }
   ],
   "source": [
    "print(\"Q_np=\\n\",np.round(Q_np,4))"
   ]
  },
  {
   "cell_type": "code",
   "execution_count": 30,
   "metadata": {},
   "outputs": [
    {
     "name": "stdout",
     "output_type": "stream",
     "text": [
      "Q=\n",
      " [[-0.4364  0.885   0.1622]\n",
      " [-0.2182  0.0708 -0.9733]\n",
      " [-0.8729 -0.4602  0.1622]]\n"
     ]
    }
   ],
   "source": [
    "print(\"Q=\\n\",np.round(Q,4))"
   ]
  },
  {
   "cell_type": "code",
   "execution_count": 31,
   "metadata": {},
   "outputs": [
    {
     "name": "stdout",
     "output_type": "stream",
     "text": [
      "R_np=\n",
      " [[-4.5826 -4.1461 -3.7097]\n",
      " [ 0.      1.3452  2.6904]\n",
      " [ 0.      0.      0.    ]]\n"
     ]
    }
   ],
   "source": [
    "print(\"R_np=\\n\",np.round(R_np,4))"
   ]
  },
  {
   "cell_type": "code",
   "execution_count": 32,
   "metadata": {},
   "outputs": [
    {
     "name": "stdout",
     "output_type": "stream",
     "text": [
      "R=\n",
      " [[-4.5826  0.     -3.7097]\n",
      " [ 0.      1.3452  2.6904]\n",
      " [ 0.      0.     -0.    ]]\n"
     ]
    }
   ],
   "source": [
    "print(\"R=\\n\",np.round(R,4))"
   ]
  },
  {
   "cell_type": "code",
   "execution_count": 33,
   "metadata": {},
   "outputs": [
    {
     "data": {
      "text/plain": [
       "array([[2., 3., 4.],\n",
       "       [1., 1., 1.],\n",
       "       [4., 3., 2.]])"
      ]
     },
     "execution_count": 33,
     "metadata": {},
     "output_type": "execute_result"
    }
   ],
   "source": [
    "Q_np@R_np"
   ]
  },
  {
   "cell_type": "code",
   "execution_count": null,
   "metadata": {},
   "outputs": [],
   "source": []
  }
 ],
 "metadata": {
  "kernelspec": {
   "display_name": "Python 3",
   "language": "python",
   "name": "python3"
  },
  "language_info": {
   "codemirror_mode": {
    "name": "ipython",
    "version": 3
   },
   "file_extension": ".py",
   "mimetype": "text/x-python",
   "name": "python",
   "nbconvert_exporter": "python",
   "pygments_lexer": "ipython3",
   "version": "3.8.5"
  }
 },
 "nbformat": 4,
 "nbformat_minor": 4
}

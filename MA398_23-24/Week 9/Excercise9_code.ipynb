{
 "cells": [
  {
   "cell_type": "markdown",
   "metadata": {},
   "source": [
    "## Question 2"
   ]
  },
  {
   "cell_type": "code",
   "execution_count": 1,
   "metadata": {},
   "outputs": [],
   "source": [
    "import numpy as np"
   ]
  },
  {
   "cell_type": "code",
   "execution_count": 2,
   "metadata": {},
   "outputs": [],
   "source": [
    "def conjugate_gradient(A, b, x0, eps=1e-6):\n",
    "    # Check if A is symmetric\n",
    "    if not np.allclose(A, A.T):\n",
    "        raise ValueError(\"Matrix A must be symmetric\")\n",
    "\n",
    "    # Check if A is positive definite\n",
    "    if not np.all(np.linalg.eigvals(A) > 0):\n",
    "        raise ValueError(\"Matrix A must be positive definite\")\n",
    "\n",
    "    # Initialize variables\n",
    "    r0 = b - np.dot(A, x0)\n",
    "    d0 = r0\n",
    "\n",
    "    for k in range(len(x0)):\n",
    "        hk = np.dot(A, d0)\n",
    "        alpha_k = np.dot(r0, r0) / np.dot(d0, hk)\n",
    "        xk = x0 + alpha_k * d0\n",
    "        rk = r0 - alpha_k * hk\n",
    "        \n",
    "        # Check for convergence\n",
    "        if np.linalg.norm(rk) <= eps:\n",
    "            break\n",
    "\n",
    "        beta = np.dot(rk, rk) / np.dot(r0, r0)\n",
    "        dk = rk + beta * d0\n",
    "\n",
    "        \n",
    "\n",
    "        x0 = xk\n",
    "        r0 = rk\n",
    "        d0 = dk\n",
    "\n",
    "    return xk\n"
   ]
  },
  {
   "cell_type": "code",
   "execution_count": 3,
   "metadata": {},
   "outputs": [],
   "source": [
    "A1 = np.array([[2, 1, 0],\n",
    "               [1, 3, -1],\n",
    "               [0, -1, 4]])\n",
    "b1 = np.array([4, 2, 5])\n",
    "\n",
    "A2 = np.array([[4, 1, 0],\n",
    "               [1, 5, 2],\n",
    "               [0, 2, 6]])\n",
    "b2 = np.array([7, 9, 13])"
   ]
  },
  {
   "cell_type": "code",
   "execution_count": 4,
   "metadata": {},
   "outputs": [
    {
     "name": "stdout",
     "output_type": "stream",
     "text": [
      "Solution from conjugate_gradient()=[1.72222222 0.55555556 1.38888889]\n",
      "Solution from Numpy=[1.72222222 0.55555556 1.38888889]\n"
     ]
    }
   ],
   "source": [
    "x0 = np.zeros(3)\n",
    "x = conjugate_gradient(A1,b1,x0)\n",
    "x_np = np.linalg.solve(A1,b1)\n",
    "\n",
    "assert np.allclose(x, x_np) , \"Solutions are different\"\n",
    "\n",
    "print(f\"Solution from conjugate_gradient()={x}\")\n",
    "print(f\"Solution from Numpy={x_np}\")"
   ]
  },
  {
   "cell_type": "code",
   "execution_count": 5,
   "metadata": {},
   "outputs": [
    {
     "name": "stdout",
     "output_type": "stream",
     "text": [
      "Solution from conjugate_gradient()=[1.57142857 0.71428571 1.92857143]\n",
      "Solution from Numpy=[1.57142857 0.71428571 1.92857143]\n"
     ]
    }
   ],
   "source": [
    "x0 = np.zeros(3)\n",
    "x = conjugate_gradient(A2,b2,x0)\n",
    "x_np = np.linalg.solve(A2,b2)\n",
    "\n",
    "assert np.allclose(x, x_np) , \"Solutions are different\"\n",
    "\n",
    "print(f\"Solution from conjugate_gradient()={x}\")\n",
    "print(f\"Solution from Numpy={x_np}\")"
   ]
  },
  {
   "cell_type": "markdown",
   "metadata": {},
   "source": [
    "## Question 3"
   ]
  },
  {
   "cell_type": "code",
   "execution_count": 6,
   "metadata": {},
   "outputs": [],
   "source": [
    "\n",
    "def compute_krylov_subspace(r0, A, k, tol=1e-5):\n",
    "    \"\"\"\n",
    "    Computes the Krylov subspace K_k(r(0), A) for a given matrix A and vector r(0),\n",
    "    where k is the number of iterations.\n",
    "\n",
    "    Args:\n",
    "        r0 (np.ndarray): The initial vector r(0).\n",
    "        A (np.ndarray): The matrix A.\n",
    "        k (int): The number of iterations.\n",
    "\n",
    "    Returns:\n",
    "        np.ndarray: A list of vectors spanning the Krylov subspace.\n",
    "    \"\"\"\n",
    "    n = r0.shape[0]\n",
    "    krylov_subspace = np.zeros((n,k))\n",
    "    krylov_subspace[:,0] = r0.squeeze(-1)\n",
    "    \n",
    "    for i in range(k):\n",
    "        v = np.dot(A, krylov_subspace[:,i])\n",
    "        h = np.linalg.norm(v)\n",
    "        if h <= tol:\n",
    "            print(f\"Stopped at k={i+1}\")\n",
    "            break\n",
    "        v = v / h\n",
    "        try:\n",
    "            krylov_subspace[:,i+1] = v\n",
    "        except IndexError as e:\n",
    "            pass\n",
    "\n",
    "    return krylov_subspace\n",
    "\n"
   ]
  },
  {
   "cell_type": "code",
   "execution_count": 7,
   "metadata": {},
   "outputs": [
    {
     "name": "stdout",
     "output_type": "stream",
     "text": [
      "[[0.43401399]\n",
      " [0.61776698]\n",
      " [0.51313824]\n",
      " [0.65039718]\n",
      " [0.60103895]]\n",
      "k = 1, dimension = 1\n",
      "\n",
      "\n",
      "[[0.43401399 0.47062518]\n",
      " [0.61776698 0.30477501]\n",
      " [0.51313824 0.44903112]\n",
      " [0.65039718 0.56025867]\n",
      " [0.60103895 0.41243837]]\n",
      "k = 2, dimension = 2\n",
      "\n",
      "\n",
      "[[0.43401399 0.47062518 0.49886652]\n",
      " [0.61776698 0.30477501 0.30876999]\n",
      " [0.51313824 0.44903112 0.40259367]\n",
      " [0.65039718 0.56025867 0.55467294]\n",
      " [0.60103895 0.41243837 0.43133462]]\n",
      "k = 3, dimension = 3\n",
      "\n",
      "\n",
      "[[0.43401399 0.47062518 0.49886652 0.49740233]\n",
      " [0.61776698 0.30477501 0.30876999 0.29459788]\n",
      " [0.51313824 0.44903112 0.40259367 0.41401627]\n",
      " [0.65039718 0.56025867 0.55467294 0.5580197 ]\n",
      " [0.60103895 0.41243837 0.43133462 0.42779382]]\n",
      "k = 4, dimension = 4\n",
      "\n",
      "\n",
      "[[0.43401399 0.47062518 0.49886652 0.49740233 0.49932545]\n",
      " [0.61776698 0.30477501 0.30876999 0.29459788 0.2976121 ]\n",
      " [0.51313824 0.44903112 0.40259367 0.41401627 0.40865402]\n",
      " [0.65039718 0.56025867 0.55467294 0.5580197  0.55716117]\n",
      " [0.60103895 0.41243837 0.43133462 0.42779382 0.42973766]]\n",
      "k = 5, dimension = 5\n",
      "\n",
      "\n",
      "[[0.43401399 0.47062518 0.49886652 0.49740233 0.49932545 0.49883671]\n",
      " [0.61776698 0.30477501 0.30876999 0.29459788 0.2976121  0.29609804]\n",
      " [0.51313824 0.44903112 0.40259367 0.41401627 0.40865402 0.41043779]\n",
      " [0.65039718 0.56025867 0.55467294 0.5580197  0.55716117 0.55756351]\n",
      " [0.60103895 0.41243837 0.43133462 0.42779382 0.42973766 0.42912893]]\n",
      "k = 6, dimension = 5\n",
      "\n",
      "\n",
      "[[0.43401399 0.47062518 0.49886652 0.49740233 0.49932545 0.49883671\n",
      "  0.49905601]\n",
      " [0.61776698 0.30477501 0.30876999 0.29459788 0.2976121  0.29609804\n",
      "  0.29659021]\n",
      " [0.51313824 0.44903112 0.40259367 0.41401627 0.40865402 0.41043779\n",
      "  0.40973882]\n",
      " [0.65039718 0.56025867 0.55467294 0.5580197  0.55716117 0.55756351\n",
      "  0.55743047]\n",
      " [0.60103895 0.41243837 0.43133462 0.42779382 0.42973766 0.42912893\n",
      "  0.4293748 ]]\n",
      "k = 7, dimension = 5\n",
      "\n",
      "\n"
     ]
    }
   ],
   "source": [
    "# Test the function\n",
    "np.random.seed(10)\n",
    "A = np.random.rand(5, 5)\n",
    "A = A + A.T\n",
    "r0 = np.random.rand(5, 1)\n",
    "\n",
    "k_values = np.arange(1,8)\n",
    "for k in k_values:\n",
    "    krylov_subspace = compute_krylov_subspace(r0, A, k)\n",
    "    dimension = np.linalg.matrix_rank(krylov_subspace)\n",
    "    \n",
    "    print(krylov_subspace)\n",
    "    print(f\"k = {k}, dimension = {dimension}\\n\\n\")\n"
   ]
  },
  {
   "cell_type": "code",
   "execution_count": null,
   "metadata": {},
   "outputs": [],
   "source": []
  }
 ],
 "metadata": {
  "kernelspec": {
   "display_name": "Python 3",
   "language": "python",
   "name": "python3"
  },
  "language_info": {
   "codemirror_mode": {
    "name": "ipython",
    "version": 3
   },
   "file_extension": ".py",
   "mimetype": "text/x-python",
   "name": "python",
   "nbconvert_exporter": "python",
   "pygments_lexer": "ipython3",
   "version": "3.8.5"
  }
 },
 "nbformat": 4,
 "nbformat_minor": 4
}
